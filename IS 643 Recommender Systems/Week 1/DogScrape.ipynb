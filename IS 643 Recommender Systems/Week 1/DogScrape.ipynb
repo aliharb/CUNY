{
 "cells": [
  {
   "cell_type": "code",
   "execution_count": 1,
   "metadata": {
    "collapsed": false
   },
   "outputs": [],
   "source": [
    "from bs4 import BeautifulSoup\n",
    "import urllib.request\n",
    "\n",
    "import pandas as pd\n",
    "import numpy as np"
   ]
  },
  {
   "cell_type": "code",
   "execution_count": 2,
   "metadata": {
    "collapsed": false
   },
   "outputs": [],
   "source": [
    "url = 'http://www.animalplanet.com/breed-selector/dog-breeds/all-breeds-a-z.html'\n",
    "page = urllib.request.urlopen(url)\n",
    "soup = BeautifulSoup(page, 'html.parser')\n",
    "\n",
    "links = []\n",
    "\n",
    "for link in soup.find(id='tabAtoZ').findAll('a'):\n",
    "    appendict = dict(breed = link.text, link = link['href'])\n",
    "    links.append(appendict)\n",
    "    \n",
    "qualityList = ['Energy level', 'Exercise needs', 'Playfullness', 'Affection', 'Friendliness toward other dogs',\n",
    "              'Friendliness toward other pets', 'Friendliness toward strangers', 'Ease of training', \n",
    "                'Watchdog ability', 'Protection ability', 'Grooming needs', 'Cold tolerance', 'Heat tolerance']\n",
    "\n",
    "dogDict = dict()\n",
    "\n",
    "for link in links:\n",
    "    url = link['link']\n",
    "    page = urllib.request.urlopen(url)\n",
    "    soup = BeautifulSoup(page, 'html.parser')\n",
    "    \n",
    "    left = soup.findAll('span', {'class' : 'left'})\n",
    "    right = soup.findAll('span', {'class' : 'right'})\n",
    "    leftList = []\n",
    "    for thing in left:\n",
    "        leftList.append(thing.text)\n",
    "    rightList = []\n",
    "    for thing in right:\n",
    "        rightList.append(thing.text)\n",
    "    \n",
    "    breedDict = dict()\n",
    "    for i in range(0,len(leftList)):\n",
    "        if leftList[i] in qualityList:\n",
    "            breedDict[leftList[i]] = rightList[i]\n",
    "    dogDict[link['breed']] = breedDict\n"
   ]
  },
  {
   "cell_type": "code",
   "execution_count": 3,
   "metadata": {
    "collapsed": false
   },
   "outputs": [],
   "source": [
    "dogs = pd.DataFrame(dogDict).transpose()\n",
    "\n",
    "#dogs = dogs.transpose().stack()\n",
    "#dogs = dogs.stack()"
   ]
  },
  {
   "cell_type": "code",
   "execution_count": 4,
   "metadata": {
    "collapsed": false
   },
   "outputs": [],
   "source": [
    "for col in dogs.columns:\n",
    "    dogs[col] = dogs[col].astype('category')\n"
   ]
  },
  {
   "cell_type": "code",
   "execution_count": 5,
   "metadata": {
    "collapsed": false
   },
   "outputs": [],
   "source": [
    "dogs['Cold tolerance'].cat.categories = pd.Index([2,0,1], dtype='object')\n",
    "dogs['Ease of training'].cat.categories = pd.Index([0,2,1], dtype='object')\n",
    "dogs['Energy level'].cat.categories = pd.Index([2,0,1], dtype='object')\n",
    "dogs['Exercise needs'].cat.categories = pd.Index([2,0,1], dtype='object')\n",
    "dogs['Friendliness toward other dogs'].cat.categories = pd.Index([1,0,2], dtype='object')\n",
    "dogs['Friendliness toward other pets'].cat.categories = pd.Index([1,0,2], dtype='object')\n",
    "dogs['Friendliness toward strangers'].cat.categories = pd.Index([1,0,2], dtype='object')\n",
    "dogs['Grooming needs'].cat.categories = pd.Index([2,0,1], dtype='object')\n",
    "dogs['Heat tolerance'].cat.categories = pd.Index([2,0,1], dtype='object')\n",
    "dogs['Playfullness'].cat.categories = pd.Index([1,0,2], dype='object')\n",
    "dogs['Protection ability'].cat.categories = pd.Index([1,0,2], dtype='object')\n",
    "dogs['Watchdog ability'].cat.categories = pd.Index([2,0,1], dtype='object')"
   ]
  },
  {
   "cell_type": "code",
   "execution_count": 192,
   "metadata": {
    "collapsed": true
   },
   "outputs": [],
   "source": [
    "#dogs = dogs.stack()"
   ]
  },
  {
   "cell_type": "code",
   "execution_count": 29,
   "metadata": {
    "collapsed": false
   },
   "outputs": [],
   "source": [
    "namelist = ['Alex', 'Bonnie', 'Colin', 'Danielle', 'Earl', 'Fiona',\n",
    "           'Gaston', 'Hermine', 'Ian', 'Julia', 'Karl', 'Lisa', \n",
    "           'Matthew', 'Nicole', 'Otto', 'Paula', 'Richard', 'Shary', \n",
    "           'Tobias', 'Virginie', 'Walter', 'Arlene', 'Bret', 'Cindy', \n",
    "           'Don', 'Emily', 'Franklin', 'Gert', 'Harvey', 'Irma', 'Jose',\n",
    "           'Katia', 'Lee', 'Maria', 'Nate', 'Ophelia', 'Philippe', 'Rina', \n",
    "           'Sean', 'Tammy', 'Vince', 'Whitney', 'Alberto', 'Beryl', 'Chris',\n",
    "           'Debby', 'Ernesto', 'Florence', 'Gordon', 'Helene', 'Isaac', 'Joyce',\n",
    "           'Kirk', 'Leslie', 'Michael', 'Nadine', 'Oscar', 'Patty', 'Rafael',\n",
    "           'Sara', 'Tony', 'Valerie', 'William']\n",
    "\n",
    "    \n",
    "ratings = dict()\n",
    "for name in namelist:\n",
    "    a = np.random.choice(np.array([1,np.nan]), size = len(dogs.index.values))\n",
    "    choices = np.array([10,20,30])\n",
    "    dist = np.random.choice(np.array([10,20,30]), size=5)\n",
    "    dist = dist/dist.sum()\n",
    "    b = np.random.choice(np.array([1,2,3,4,5]), size = len(dogs.index.values), p=dist)\n",
    "    ratings[name] = a*b\n",
    "    \n",
    "ratings = pd.DataFrame(ratings, index = dogs.index.values)\n"
   ]
  },
  {
   "cell_type": "code",
   "execution_count": 32,
   "metadata": {
    "collapsed": true
   },
   "outputs": [],
   "source": [
    "ratings.to_csv('ratings.csv')\n",
    "dogs.to_csv('dogs.csv')"
   ]
  },
  {
   "cell_type": "code",
   "execution_count": null,
   "metadata": {
    "collapsed": true
   },
   "outputs": [],
   "source": []
  }
 ],
 "metadata": {
  "kernelspec": {
   "display_name": "Python 3",
   "language": "python",
   "name": "python3"
  },
  "language_info": {
   "codemirror_mode": {
    "name": "ipython",
    "version": 3
   },
   "file_extension": ".py",
   "mimetype": "text/x-python",
   "name": "python",
   "nbconvert_exporter": "python",
   "pygments_lexer": "ipython3",
   "version": "3.5.1"
  }
 },
 "nbformat": 4,
 "nbformat_minor": 0
}
