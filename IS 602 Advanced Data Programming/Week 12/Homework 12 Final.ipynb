{
 "metadata": {
  "name": "",
  "signature": "sha256:d3a5b1b92e01fb45920948ea1f263be73efec852554597a2f0d0edaf3812f040"
 },
 "nbformat": 3,
 "nbformat_minor": 0,
 "worksheets": [
  {
   "cells": [
    {
     "cell_type": "code",
     "collapsed": false,
     "input": [
      "import pandas as pd\n",
      "import numpy as np\n",
      "%pylab inline\n",
      "from IPython import parallel"
     ],
     "language": "python",
     "metadata": {},
     "outputs": [
      {
       "output_type": "stream",
       "stream": "stdout",
       "text": [
        "Populating the interactive namespace from numpy and matplotlib\n"
       ]
      }
     ],
     "prompt_number": 3
    },
    {
     "cell_type": "code",
     "collapsed": false,
     "input": [
      "%%timeit\n",
      "\n",
      "df = pd.read_csv('apple2011.csv', index_col = \"Date\")\n",
      "df.rename(columns={'Unnamed: 2': 'pc'}, inplace=True)\n",
      "df.pc[0] = float('NaN')\n",
      "for i in np.arange(1,len(df.pc)):\n",
      "    df.pc[i] = float(df.pc[i])\n",
      "    \n",
      "biglist = []\n",
      "\n",
      "for j in np.arange(0,1000):\n",
      "    \n",
      "    lastprice = df.Last[len(df.Last)-1]\n",
      "\n",
      "    montecarlolist = []\n",
      "\n",
      "    for i in np.arange(0,20):\n",
      "        montecarlolist.append(np.random.normal(df.pc.mean(), df.pc.std()))\n",
      "\n",
      "    montecarlolist = np.array(montecarlolist)\n",
      "    \n",
      "    for i in np.arange(0,len(montecarlolist)):\n",
      "        lastprice = lastprice * (1+montecarlolist[i])\n",
      "    \n",
      "    biglist.append(lastprice)\n",
      "\n",
      "biglist = np.array(biglist)\n",
      "\n",
      "var = df.Last[len(df.Last)-1] - np.percentile(biglist, 1)\n",
      "\n",
      "\"\"\"\n",
      "1 loops, best of 3: 4.99 s per loop\n",
      "\"\"\""
     ],
     "language": "python",
     "metadata": {},
     "outputs": [
      {
       "output_type": "stream",
       "stream": "stdout",
       "text": [
        "1 loops, best of 3: 4.99 s per loop\n"
       ]
      }
     ],
     "prompt_number": 14
    },
    {
     "cell_type": "code",
     "collapsed": false,
     "input": [
      "%%timeit\n",
      "\n",
      "from IPython import parallel\n",
      "clients = parallel.Client()\n",
      "clients.block = True\n",
      "\n",
      "dview = clients.direct_view()\n",
      "\n",
      "%autopx\n",
      "\n",
      "import pandas as pd\n",
      "import numpy as np\n",
      "\n",
      "df = pd.read_csv('apple2011.csv', index_col = \"Date\")\n",
      "df.rename(columns={'Unnamed: 2': 'pc'}, inplace=True)\n",
      "df.pc[0] = float('NaN')\n",
      "for i in np.arange(1,len(df.pc)):\n",
      "    df.pc[i] = float(df.pc[i])\n",
      "\n",
      "    \n",
      "biglist = []\n",
      "\n",
      "for j in np.arange(0,250):\n",
      "    \n",
      "    lastprice = df.Last[len(df.Last)-1]\n",
      "\n",
      "    montecarlolist = []\n",
      "\n",
      "    for i in np.arange(0,20):\n",
      "        montecarlolist.append(np.random.normal(df.pc.mean(), df.pc.std()))\n",
      "\n",
      "    montecarlolist = np.array(montecarlolist)\n",
      "    \n",
      "    for i in np.arange(0,len(montecarlolist)):\n",
      "        lastprice = lastprice * (1+montecarlolist[i])\n",
      "    \n",
      "    biglist.append(lastprice)\n",
      "\n",
      "biglist = np.array(biglist)\n",
      "\n",
      "%autopx\n",
      "\n",
      "biglist = dview.gather('biglist')\n",
      "\n",
      "var = df.Last[len(df.Last)-1] - np.percentile(biglist, 1)\n",
      "\n",
      "\"\"\"\n",
      "%autopx enabled\n",
      "%autopx disabled\n",
      "%autopx enabled\n",
      "%autopx disabled\n",
      "%autopx enabled\n",
      "%autopx disabled\n",
      "%autopx enabled\n",
      "%autopx disabled\n",
      "1 loops, best of 3: 1.4 s per loop\n",
      "\n",
      "\"\"\""
     ],
     "language": "python",
     "metadata": {},
     "outputs": [
      {
       "output_type": "stream",
       "stream": "stdout",
       "text": [
        "%autopx enabled\n",
        "%autopx disabled"
       ]
      },
      {
       "output_type": "stream",
       "stream": "stdout",
       "text": [
        "\n",
        "%autopx enabled"
       ]
      },
      {
       "output_type": "stream",
       "stream": "stdout",
       "text": [
        "\n",
        "%autopx disabled"
       ]
      },
      {
       "output_type": "stream",
       "stream": "stdout",
       "text": [
        "\n",
        "%autopx enabled"
       ]
      },
      {
       "output_type": "stream",
       "stream": "stdout",
       "text": [
        "\n",
        "%autopx disabled"
       ]
      },
      {
       "output_type": "stream",
       "stream": "stdout",
       "text": [
        "\n",
        "%autopx enabled"
       ]
      },
      {
       "output_type": "stream",
       "stream": "stdout",
       "text": [
        "\n",
        "%autopx disabled"
       ]
      },
      {
       "output_type": "stream",
       "stream": "stdout",
       "text": [
        "\n",
        "1 loops, best of 3: 1.4 s per loop\n"
       ]
      }
     ],
     "prompt_number": 15
    },
    {
     "cell_type": "code",
     "collapsed": false,
     "input": [],
     "language": "python",
     "metadata": {},
     "outputs": []
    }
   ],
   "metadata": {}
  }
 ]
}