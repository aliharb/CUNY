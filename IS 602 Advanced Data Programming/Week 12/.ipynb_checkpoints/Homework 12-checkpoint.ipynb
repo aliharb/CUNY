{
 "metadata": {
  "name": "",
  "signature": "sha256:251650af763ec7d2f835339a9e88a4ec91c83f682ce5319c554283fd8c25c160"
 },
 "nbformat": 3,
 "nbformat_minor": 0,
 "worksheets": [
  {
   "cells": [
    {
     "cell_type": "code",
     "collapsed": false,
     "input": [
      "\"\"\"from IPython import parallel\n",
      "clients = parallel.Client()\n",
      "clients.block = True\n",
      "print clients.ids\n",
      "\n",
      "dview = clients.direct_view()\n",
      "\n",
      "%px import numpy\n",
      "%px n = numpy.random.random(3)\n",
      "%px print n\n",
      "\n",
      "n = dview.gather('n')\n",
      "print n\"\"\""
     ],
     "language": "python",
     "metadata": {},
     "outputs": []
    },
    {
     "cell_type": "code",
     "collapsed": false,
     "input": [
      "import pandas as pd\n",
      "import numpy as np\n",
      "%pylab inline"
     ],
     "language": "python",
     "metadata": {},
     "outputs": [
      {
       "output_type": "stream",
       "stream": "stdout",
       "text": [
        "Populating the interactive namespace from numpy and matplotlib\n"
       ]
      }
     ],
     "prompt_number": 1
    },
    {
     "cell_type": "code",
     "collapsed": false,
     "input": [
      "df = pd.read_csv('apple2011.csv', index_col = \"Date\")\n",
      "df.rename(columns={'Unnamed: 2': 'pc'}, inplace=True)\n",
      "df.pc[0] = float('NaN')\n",
      "for i in np.arange(1,len(df.pc)):\n",
      "    df.pc[i] = float(df.pc[i])"
     ],
     "language": "python",
     "metadata": {},
     "outputs": [],
     "prompt_number": 2
    },
    {
     "cell_type": "code",
     "collapsed": false,
     "input": [
      "biglist = []\n",
      "\n",
      "for j in np.arange(0,10000):\n",
      "    \n",
      "    lastprice = df.Last[len(df.Last)-1]\n",
      "\n",
      "    montecarlolist = []\n",
      "\n",
      "    for i in np.arange(0,20):\n",
      "        montecarlolist.append(np.random.normal(df.pc.mean(), df.pc.std()))\n",
      "\n",
      "    montecarlolist = np.array(montecarlolist)\n",
      "    \n",
      "    for i in np.arange(0,len(montecarlolist)):\n",
      "        lastprice = lastprice * (1+montecarlolist[i])\n",
      "    \n",
      "    biglist.append(lastprice)\n",
      "\n",
      "biglist = np.array(biglist)\n",
      "\n",
      "plt = hist(biglist, bins=30)\n",
      "\n",
      "axvline(df.Last[len(df.Last)-1], color='r', linestyle='dashed', linewidth=2)\n",
      "\n",
      "axvline(np.percentile(biglist, 1), color='g', linestyle='dashed', linewidth =2)"
     ],
     "language": "python",
     "metadata": {},
     "outputs": [
      {
       "metadata": {},
       "output_type": "pyout",
       "prompt_number": 3,
       "text": [
        "<matplotlib.lines.Line2D at 0xba30780>"
       ]
      },
      {
       "metadata": {},
       "output_type": "display_data",
       "png": "[encoded data removed]",
       "text": [
        "<matplotlib.figure.Figure at 0x3928240>"
       ]
      }
     ],
     "prompt_number": 3
    },
    {
     "cell_type": "code",
     "collapsed": false,
     "input": [
      "biglist\n",
      "var = df.Last[len(df.Last)-1] - np.percentile(biglist, 1)\n",
      "\n",
      "print 'With the final share price of $' + str(df.Last[len(df.Last)-1]) + ' represented by the red line in the above histogram, the calculated VaR per share over 20 days is $' + str(var)"
     ],
     "language": "python",
     "metadata": {},
     "outputs": [
      {
       "output_type": "stream",
       "stream": "stdout",
       "text": [
        "With the final share price of $405.0 represented by the red line in the above histogram, the calculated VaR per share over 20 days is $59.9539836008\n"
       ]
      }
     ],
     "prompt_number": 4
    },
    {
     "cell_type": "code",
     "collapsed": false,
     "input": [],
     "language": "python",
     "metadata": {},
     "outputs": []
    }
   ],
   "metadata": {}
  }
 ]
}