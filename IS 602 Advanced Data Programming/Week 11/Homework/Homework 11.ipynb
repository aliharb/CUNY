{
 "metadata": {
  "name": "",
  "signature": "sha256:c5a5b25218494702effc9289ed1309e1032486923697ba81635abd5f009808d8"
 },
 "nbformat": 3,
 "nbformat_minor": 0,
 "worksheets": [
  {
   "cells": [
    {
     "cell_type": "code",
     "collapsed": false,
     "input": [
      "import pandas as pd\n",
      "import numpy as np\n",
      "%pylab inline"
     ],
     "language": "python",
     "metadata": {},
     "outputs": [
      {
       "output_type": "stream",
       "stream": "stdout",
       "text": [
        "Populating the interactive namespace from numpy and matplotlib\n"
       ]
      }
     ],
     "prompt_number": 4
    },
    {
     "cell_type": "code",
     "collapsed": false,
     "input": [
      "df = pd.read_csv('apple2011.csv', index_col = \"Date\")\n",
      "df.rename(columns={'Unnamed: 2': 'pc'}, inplace=True)\n",
      "df.pc[0] = float('NaN')\n",
      "for i in np.arange(1,len(df.pc)):\n",
      "    df.pc[i] = float(df.pc[i])\n"
     ],
     "language": "python",
     "metadata": {},
     "outputs": [],
     "prompt_number": 5
    },
    {
     "cell_type": "code",
     "collapsed": false,
     "input": [
      "biglist = []\n",
      "\n",
      "for j in np.arange(0,10000):\n",
      "    \n",
      "    lastprice = df.Last[len(df.Last)-1]\n",
      "\n",
      "    montecarlolist = []\n",
      "\n",
      "    for i in np.arange(0,20):\n",
      "        montecarlolist.append(np.random.normal(df.pc.mean(), df.pc.std()))\n",
      "\n",
      "    montecarlolist = np.array(montecarlolist)\n",
      "    \n",
      "    for i in np.arange(0,len(montecarlolist)):\n",
      "        lastprice = lastprice * (1+montecarlolist[i])\n",
      "    \n",
      "    biglist.append(lastprice)\n",
      "\n",
      "biglist = np.array(biglist)\n",
      "\n",
      "plt = hist(biglist, bins=30)\n",
      "\n",
      "axvline(df.Last[len(df.Last)-1], color='r', linestyle='dashed', linewidth=2)\n",
      "\n",
      "axvline(np.percentile(biglist, 1), color='g', linestyle='dashed', linewidth =2)\n"
     ],
     "language": "python",
     "metadata": {},
     "outputs": [
      {
       "metadata": {},
       "output_type": "pyout",
       "prompt_number": 6,
       "text": [
        "<matplotlib.lines.Line2D at 0xb8805f8>"
       ]
      },
      {
       "metadata": {},
       "output_type": "display_data",
       "png": "[encoded data removed]",
       "text": [
        "<matplotlib.figure.Figure at 0x36342e8>"
       ]
      }
     ],
     "prompt_number": 6
    },
    {
     "cell_type": "code",
     "collapsed": false,
     "input": [
      "biglist\n",
      "var = df.Last[len(df.Last)-1] - np.percentile(biglist, 1)\n",
      "\n",
      "print 'With the final share price of $' + str(df.Last[len(df.Last)-1]) + ' represented by the red line in the above histogram, the calculated VaR per share over 20 days is $' + str(var)"
     ],
     "language": "python",
     "metadata": {},
     "outputs": [
      {
       "output_type": "stream",
       "stream": "stdout",
       "text": [
        "With the final share price of $405.0 represented by the red line in the above histogram, the calculated VaR per share over 20 days is $58.1919434905\n"
       ]
      }
     ],
     "prompt_number": 7
    },
    {
     "cell_type": "code",
     "collapsed": false,
     "input": [],
     "language": "python",
     "metadata": {},
     "outputs": []
    }
   ],
   "metadata": {}
  }
 ]
}