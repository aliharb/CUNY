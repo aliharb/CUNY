{
 "cells": [
  {
   "cell_type": "code",
   "execution_count": 1,
   "metadata": {
    "collapsed": true
   },
   "outputs": [],
   "source": [
    "import theano\n",
    "import theano.tensor as T\n",
    "import theano.tensor.nnet as nnet\n",
    "import numpy as np\n",
    "\n",
    "import plotly.plotly as py\n",
    "import plotly.graph_objs as go\n",
    "\n",
    "import pandas as pd\n",
    "\n",
    "import plotly"
   ]
  },
  {
   "cell_type": "markdown",
   "metadata": {},
   "source": [
    "Lets look at how noise can affect our trained model. First, we'll recreate the model from the last homework: A function without noise. I will plot the function itself, the function the model predicts, and the error curve."
   ]
  },
  {
   "cell_type": "code",
   "execution_count": 2,
   "metadata": {
    "collapsed": true
   },
   "outputs": [],
   "source": [
    "from itertools import product\n",
    "\n",
    "data = []\n",
    "\n",
    "for i in product(np.linspace(-10, 10, num=100), np.linspace(-10, 10, num=100)):\n",
    "    data.append([i[0], i[1], 2*(i[0]**2) - 3*(i[1]**2) + 1])\n",
    "    \n",
    "data = np.array(data)"
   ]
  },
  {
   "cell_type": "code",
   "execution_count": 3,
   "metadata": {
    "collapsed": false
   },
   "outputs": [
    {
     "data": {
      "text/html": [
       "<iframe id=\"igraph\" scrolling=\"no\" style=\"border:none;\" seamless=\"seamless\" src=\"https://plot.ly/~charleyferrari/866.embed\" height=\"525px\" width=\"100%\"></iframe>"
      ],
      "text/plain": [
       "<plotly.tools.PlotlyDisplay object>"
      ]
     },
     "execution_count": 3,
     "metadata": {},
     "output_type": "execute_result"
    }
   ],
   "source": [
    "side = np.sqrt(data.shape[0])\n",
    "saddlemat = np.reshape(data[:,[2]], (side, side))\n",
    "\n",
    "plotlydata = [\n",
    "    go.Surface(\n",
    "        z=saddlemat,\n",
    "        x = np.linspace(-10, 10, num=100),\n",
    "        y = np.linspace(-10, 10, num=100)\n",
    "    )\n",
    "]\n",
    "\n",
    "py.iplot(plotlydata, filename='622-hw2-saddle')"
   ]
  },
  {
   "cell_type": "code",
   "execution_count": 4,
   "metadata": {
    "collapsed": false
   },
   "outputs": [
    {
     "name": "stderr",
     "output_type": "stream",
     "text": [
      "Using Theano backend.\n"
     ]
    }
   ],
   "source": [
    "from keras.models import Sequential\n",
    "\n",
    "\n",
    "from keras.models import Sequential\n",
    "from keras.layers import Dense, Activation"
   ]
  },
  {
   "cell_type": "code",
   "execution_count": 5,
   "metadata": {
    "collapsed": false
   },
   "outputs": [
    {
     "data": {
      "text/plain": [
       "<keras.callbacks.History at 0x7f75d0fdd890>"
      ]
     },
     "execution_count": 5,
     "metadata": {},
     "output_type": "execute_result"
    }
   ],
   "source": [
    "modelMSE = Sequential()\n",
    "\n",
    "modelMSE.add(Dense(40, input_dim=2, activation='sigmoid'))\n",
    "modelMSE.add(Dense(1))\n",
    "\n",
    "modelMSE.compile(loss='mean_squared_error', optimizer='sgd', metrics=['accuracy'])\n",
    "\n",
    "modelMSE.fit(data[:,[0,1]], data[:,[2]], nb_epoch=5, verbose=0)"
   ]
  },
  {
   "cell_type": "code",
   "execution_count": 6,
   "metadata": {
    "collapsed": false
   },
   "outputs": [
    {
     "data": {
      "text/html": [
       "<iframe id=\"igraph\" scrolling=\"no\" style=\"border:none;\" seamless=\"seamless\" src=\"https://plot.ly/~charleyferrari/878.embed\" height=\"525px\" width=\"100%\"></iframe>"
      ],
      "text/plain": [
       "<plotly.tools.PlotlyDisplay object>"
      ]
     },
     "execution_count": 6,
     "metadata": {},
     "output_type": "execute_result"
    }
   ],
   "source": [
    "side = np.sqrt(len(modelMSE.predict(data[:,[0,1]])))\n",
    "predmatMSE = np.reshape(modelMSE.predict(data[:,[0,1]]), (side, side))\n",
    "\n",
    "MSEdata = [\n",
    "    go.Surface(\n",
    "        z=predmatMSE,\n",
    "        x = np.linspace(-10, 10, num=100),\n",
    "        y = np.linspace(-10, 10, num=100)\n",
    "    )\n",
    "]\n",
    "\n",
    "layout = go.Layout(\n",
    "    title = 'Mean Squared Error'\n",
    ")\n",
    "\n",
    "fig = go.Figure(data = MSEdata, layout = layout)\n",
    "\n",
    "py.iplot(fig, filename='622-hw2-MSE')"
   ]
  },
  {
   "cell_type": "code",
   "execution_count": 7,
   "metadata": {
    "collapsed": false
   },
   "outputs": [
    {
     "data": {
      "text/html": [
       "<iframe id=\"igraph\" scrolling=\"no\" style=\"border:none;\" seamless=\"seamless\" src=\"https://plot.ly/~charleyferrari/882.embed\" height=\"525px\" width=\"100%\"></iframe>"
      ],
      "text/plain": [
       "<plotly.tools.PlotlyDisplay object>"
      ]
     },
     "execution_count": 7,
     "metadata": {},
     "output_type": "execute_result"
    }
   ],
   "source": [
    "ermatMSE = (saddlemat - predmatMSE)**2\n",
    "\n",
    "erMSE = [\n",
    "    go.Surface(\n",
    "        z=ermatMSE,\n",
    "        x = np.linspace(-10, 10, num=100),\n",
    "        y = np.linspace(-10, 10, num=100)\n",
    "    )\n",
    "]\n",
    "\n",
    "layout = go.Layout(\n",
    "    title = 'MSE Error Surface'\n",
    ")\n",
    "\n",
    "fig = go.Figure(data = erMSE, layout = layout)\n",
    "\n",
    "py.iplot(fig, filename='622-hw2-error-MSE')"
   ]
  },
  {
   "cell_type": "markdown",
   "metadata": {},
   "source": [
    "Now I will do the same thing adding random noise to this function. I will add a random error term with a standard deviation of 10 to my function, and recreate plots of the function, prediction, and error."
   ]
  },
  {
   "cell_type": "code",
   "execution_count": 8,
   "metadata": {
    "collapsed": true
   },
   "outputs": [],
   "source": [
    "sd = 10\n",
    "\n",
    "from itertools import product\n",
    "\n",
    "data = []\n",
    "\n",
    "for i in product(np.linspace(-10, 10, num=100), np.linspace(-10, 10, num=100)):\n",
    "    data.append([i[0], i[1], 2*(i[0]**2) - 3*(i[1]**2) + 1 + np.random.normal(0, sd, 1)])\n",
    "    \n",
    "data = np.array(data)"
   ]
  },
  {
   "cell_type": "code",
   "execution_count": 9,
   "metadata": {
    "collapsed": false
   },
   "outputs": [
    {
     "data": {
      "text/html": [
       "<iframe id=\"igraph\" scrolling=\"no\" style=\"border:none;\" seamless=\"seamless\" src=\"https://plot.ly/~charleyferrari/901.embed\" height=\"525px\" width=\"100%\"></iframe>"
      ],
      "text/plain": [
       "<plotly.tools.PlotlyDisplay object>"
      ]
     },
     "execution_count": 9,
     "metadata": {},
     "output_type": "execute_result"
    }
   ],
   "source": [
    "side = np.sqrt(data.shape[0])\n",
    "saddlemat = np.reshape(data[:,[2]], (side, side))\n",
    "\n",
    "plotlydata = [\n",
    "    go.Surface(\n",
    "        z=saddlemat,\n",
    "        x = np.linspace(-10, 10, num=100),\n",
    "        y = np.linspace(-10, 10, num=100)\n",
    "    )\n",
    "]\n",
    "\n",
    "py.iplot(plotlydata, filename='622-dis6-saddle-sd10')"
   ]
  },
  {
   "cell_type": "code",
   "execution_count": 10,
   "metadata": {
    "collapsed": false
   },
   "outputs": [
    {
     "data": {
      "text/plain": [
       "<keras.callbacks.History at 0x7f75d0164150>"
      ]
     },
     "execution_count": 10,
     "metadata": {},
     "output_type": "execute_result"
    }
   ],
   "source": [
    "modelMSE = Sequential()\n",
    "\n",
    "modelMSE.add(Dense(40, input_dim=2, activation='sigmoid'))\n",
    "modelMSE.add(Dense(1))\n",
    "\n",
    "modelMSE.compile(loss='mean_squared_error', optimizer='sgd', metrics=['accuracy'])\n",
    "\n",
    "modelMSE.fit(data[:,[0,1]], data[:,[2]], nb_epoch=5, verbose=0)"
   ]
  },
  {
   "cell_type": "code",
   "execution_count": 11,
   "metadata": {
    "collapsed": false
   },
   "outputs": [
    {
     "data": {
      "text/html": [
       "<iframe id=\"igraph\" scrolling=\"no\" style=\"border:none;\" seamless=\"seamless\" src=\"https://plot.ly/~charleyferrari/903.embed\" height=\"525px\" width=\"100%\"></iframe>"
      ],
      "text/plain": [
       "<plotly.tools.PlotlyDisplay object>"
      ]
     },
     "execution_count": 11,
     "metadata": {},
     "output_type": "execute_result"
    }
   ],
   "source": [
    "side = np.sqrt(len(modelMSE.predict(data[:,[0,1]])))\n",
    "predmatMSE = np.reshape(modelMSE.predict(data[:,[0,1]]), (side, side))\n",
    "#predmatMAE = np.reshape(modelMAE.predict(data[:,[0,1]]), (side, side))\n",
    "\n",
    "MSEdata = [\n",
    "    go.Surface(\n",
    "        z=predmatMSE,\n",
    "        x = np.linspace(-10, 10, num=100),\n",
    "        y = np.linspace(-10, 10, num=100)\n",
    "    )\n",
    "]\n",
    "\n",
    "layout = go.Layout(\n",
    "    title = 'Mean Squared Error'\n",
    ")\n",
    "\n",
    "fig = go.Figure(data = MSEdata, layout = layout)\n",
    "\n",
    "py.iplot(fig, filename='622-dis6-MSE-sd10')"
   ]
  },
  {
   "cell_type": "code",
   "execution_count": 12,
   "metadata": {
    "collapsed": false
   },
   "outputs": [
    {
     "data": {
      "text/html": [
       "<iframe id=\"igraph\" scrolling=\"no\" style=\"border:none;\" seamless=\"seamless\" src=\"https://plot.ly/~charleyferrari/905.embed\" height=\"525px\" width=\"100%\"></iframe>"
      ],
      "text/plain": [
       "<plotly.tools.PlotlyDisplay object>"
      ]
     },
     "execution_count": 12,
     "metadata": {},
     "output_type": "execute_result"
    }
   ],
   "source": [
    "ermatMSE = (saddlemat - predmatMSE)**2\n",
    "\n",
    "erMSE = [\n",
    "    go.Surface(\n",
    "        z=ermatMSE,\n",
    "        x = np.linspace(-10, 10, num=100),\n",
    "        y = np.linspace(-10, 10, num=100)\n",
    "    )\n",
    "]\n",
    "\n",
    "layout = go.Layout(\n",
    "    title = 'MSE Error Surface'\n",
    ")\n",
    "\n",
    "fig = go.Figure(data = erMSE, layout = layout)\n",
    "\n",
    "py.iplot(fig, filename='622-dis6-error-MSE-sd10')"
   ]
  },
  {
   "cell_type": "markdown",
   "metadata": {},
   "source": [
    "I'll try this one more time adding an error term with a standard deviation of 100 to see if anything changes."
   ]
  },
  {
   "cell_type": "code",
   "execution_count": 13,
   "metadata": {
    "collapsed": true
   },
   "outputs": [],
   "source": [
    "sd = 100\n",
    "\n",
    "from itertools import product\n",
    "\n",
    "data = []\n",
    "\n",
    "for i in product(np.linspace(-10, 10, num=100), np.linspace(-10, 10, num=100)):\n",
    "    data.append([i[0], i[1], 2*(i[0]**2) - 3*(i[1]**2) + 1 + np.random.normal(0, sd, 1)])\n",
    "    \n",
    "data = np.array(data)"
   ]
  },
  {
   "cell_type": "code",
   "execution_count": 14,
   "metadata": {
    "collapsed": false
   },
   "outputs": [
    {
     "data": {
      "text/html": [
       "<iframe id=\"igraph\" scrolling=\"no\" style=\"border:none;\" seamless=\"seamless\" src=\"https://plot.ly/~charleyferrari/907.embed\" height=\"525px\" width=\"100%\"></iframe>"
      ],
      "text/plain": [
       "<plotly.tools.PlotlyDisplay object>"
      ]
     },
     "execution_count": 14,
     "metadata": {},
     "output_type": "execute_result"
    }
   ],
   "source": [
    "side = np.sqrt(data.shape[0])\n",
    "saddlemat = np.reshape(data[:,[2]], (side, side))\n",
    "\n",
    "plotlydata = [\n",
    "    go.Surface(\n",
    "        z=saddlemat,\n",
    "        x = np.linspace(-10, 10, num=100),\n",
    "        y = np.linspace(-10, 10, num=100)\n",
    "    )\n",
    "]\n",
    "\n",
    "py.iplot(plotlydata, filename='622-dis6-saddle-sd100')"
   ]
  },
  {
   "cell_type": "code",
   "execution_count": 15,
   "metadata": {
    "collapsed": false
   },
   "outputs": [
    {
     "data": {
      "text/plain": [
       "<keras.callbacks.History at 0x7f75cfe60f90>"
      ]
     },
     "execution_count": 15,
     "metadata": {},
     "output_type": "execute_result"
    }
   ],
   "source": [
    "modelMSE = Sequential()\n",
    "\n",
    "modelMSE.add(Dense(40, input_dim=2, activation='sigmoid'))\n",
    "modelMSE.add(Dense(1))\n",
    "\n",
    "modelMSE.compile(loss='mean_squared_error', optimizer='sgd', metrics=['accuracy'])\n",
    "\n",
    "modelMSE.fit(data[:,[0,1]], data[:,[2]], nb_epoch=5, verbose=0)"
   ]
  },
  {
   "cell_type": "code",
   "execution_count": 16,
   "metadata": {
    "collapsed": false
   },
   "outputs": [
    {
     "data": {
      "text/html": [
       "<iframe id=\"igraph\" scrolling=\"no\" style=\"border:none;\" seamless=\"seamless\" src=\"https://plot.ly/~charleyferrari/909.embed\" height=\"525px\" width=\"100%\"></iframe>"
      ],
      "text/plain": [
       "<plotly.tools.PlotlyDisplay object>"
      ]
     },
     "execution_count": 16,
     "metadata": {},
     "output_type": "execute_result"
    }
   ],
   "source": [
    "side = np.sqrt(len(modelMSE.predict(data[:,[0,1]])))\n",
    "predmatMSE = np.reshape(modelMSE.predict(data[:,[0,1]]), (side, side))\n",
    "#predmatMAE = np.reshape(modelMAE.predict(data[:,[0,1]]), (side, side))\n",
    "\n",
    "MSEdata = [\n",
    "    go.Surface(\n",
    "        z=predmatMSE,\n",
    "        x = np.linspace(-10, 10, num=100),\n",
    "        y = np.linspace(-10, 10, num=100)\n",
    "    )\n",
    "]\n",
    "\n",
    "layout = go.Layout(\n",
    "    title = 'Mean Squared Error'\n",
    ")\n",
    "\n",
    "fig = go.Figure(data = MSEdata, layout = layout)\n",
    "\n",
    "py.iplot(fig, filename='622-dis6-MSE-sd100')"
   ]
  },
  {
   "cell_type": "code",
   "execution_count": 17,
   "metadata": {
    "collapsed": false
   },
   "outputs": [
    {
     "data": {
      "text/html": [
       "<iframe id=\"igraph\" scrolling=\"no\" style=\"border:none;\" seamless=\"seamless\" src=\"https://plot.ly/~charleyferrari/911.embed\" height=\"525px\" width=\"100%\"></iframe>"
      ],
      "text/plain": [
       "<plotly.tools.PlotlyDisplay object>"
      ]
     },
     "execution_count": 17,
     "metadata": {},
     "output_type": "execute_result"
    }
   ],
   "source": [
    "ermatMSE = (saddlemat - predmatMSE)**2\n",
    "\n",
    "erMSE = [\n",
    "    go.Surface(\n",
    "        z=ermatMSE,\n",
    "        x = np.linspace(-10, 10, num=100),\n",
    "        y = np.linspace(-10, 10, num=100)\n",
    "    )\n",
    "]\n",
    "\n",
    "layout = go.Layout(\n",
    "    title = 'MSE Error Surface'\n",
    ")\n",
    "\n",
    "fig = go.Figure(data = erMSE, layout = layout)\n",
    "\n",
    "py.iplot(fig, filename='622-dis6-error-MSE-sd100')"
   ]
  }
 ],
 "metadata": {
  "kernelspec": {
   "display_name": "Python 2",
   "language": "python",
   "name": "python2"
  },
  "language_info": {
   "codemirror_mode": {
    "name": "ipython",
    "version": 2
   },
   "file_extension": ".py",
   "mimetype": "text/x-python",
   "name": "python",
   "nbconvert_exporter": "python",
   "pygments_lexer": "ipython2",
   "version": "2.7.6"
  }
 },
 "nbformat": 4,
 "nbformat_minor": 0
}
