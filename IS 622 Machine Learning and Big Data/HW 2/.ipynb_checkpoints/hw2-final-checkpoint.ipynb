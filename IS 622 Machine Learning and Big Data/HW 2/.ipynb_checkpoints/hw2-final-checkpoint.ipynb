{
 "cells": [
  {
   "cell_type": "code",
   "execution_count": 1,
   "metadata": {
    "collapsed": true
   },
   "outputs": [],
   "source": [
    "import theano\n",
    "import theano.tensor as T\n",
    "import theano.tensor.nnet as nnet\n",
    "import numpy as np"
   ]
  },
  {
   "cell_type": "code",
   "execution_count": 2,
   "metadata": {
    "collapsed": true
   },
   "outputs": [],
   "source": [
    "x = T.dmatrix('x')\n",
    "y = T.dvector('y')\n"
   ]
  },
  {
   "cell_type": "code",
   "execution_count": 3,
   "metadata": {
    "collapsed": false
   },
   "outputs": [],
   "source": [
    "from itertools import product\n",
    "\n",
    "data = []\n",
    "\n",
    "for i in product(np.arange(0,10), np.arange(0,10)):\n",
    "    data.append([i[0], i[1], 2*(i[0]**2) - 3*(i[1]**2) + 1])\n",
    "    \n",
    "data = np.array(data)"
   ]
  },
  {
   "cell_type": "code",
   "execution_count": 4,
   "metadata": {
    "collapsed": true
   },
   "outputs": [],
   "source": [
    "def layer(x, w):\n",
    "    b = np.array(np.repeat(1,data[:,[0,1]].shape[0]).reshape(-1,1), dtype = theano.config.floatX)\n",
    "    new_x = T.concatenate([b, x], axis=1)\n",
    "    m = T.dot(w.T, new_x.T).T #theta1: 3x3 * x: 3x1 = 3x1 ;;; theta2: 1x4 * 4x1\n",
    "    h = nnet.relu(m)\n",
    "    return h\n",
    "\n",
    "def layerNoActivation(x, w):\n",
    "    b = np.array(np.repeat(1,data[:,[0,1]].shape[0]).reshape(-1,1), dtype = theano.config.floatX)\n",
    "    new_x = T.concatenate([b, x], axis=1)\n",
    "    m = T.dot(w.T, new_x.T).T #theta1: 3x3 * x: 3x1 = 3x1 ;;; theta2: 1x4 * 4x1\n",
    "    return m"
   ]
  },
  {
   "cell_type": "code",
   "execution_count": null,
   "metadata": {
    "collapsed": true
   },
   "outputs": [],
   "source": [
    "def grad_desc(cost, theta):\n",
    "    alpha = 0.1 #learning rate\n",
    "    return theta - (alpha * T.grad(cost, wrt=theta))"
   ]
  },
  {
   "cell_type": "code",
   "execution_count": null,
   "metadata": {
    "collapsed": false
   },
   "outputs": [],
   "source": [
    "T.grad(cost, wrt=theta1)"
   ]
  },
  {
   "cell_type": "code",
   "execution_count": 5,
   "metadata": {
    "collapsed": true
   },
   "outputs": [],
   "source": [
    "theta1 = theano.shared(np.array(np.random.rand(3,3), dtype=theano.config.floatX)) # randomly initialize\n",
    "theta2 = theano.shared(np.array(np.random.rand(4,1), dtype=theano.config.floatX))"
   ]
  },
  {
   "cell_type": "code",
   "execution_count": null,
   "metadata": {
    "collapsed": false
   },
   "outputs": [],
   "source": [
    "def layertest(x, w):\n",
    "    b = np.array(np.repeat(1,data[:,[0,1]].shape[0]).reshape(-1,1))\n",
    "    new_x = np.concatenate([b, x], axis=1)\n",
    "    m = np.dot(w.T, new_x.T).T #theta1: 3x3 * x: 3x1 = 3x1 ;;; theta2: 1x4 * 4x1\n",
    "    h = nnet.relu(m)\n",
    "    return h\n",
    "\n",
    "theta1 = np.random.rand(3,3)\n",
    "theta2 = np.random.rand(4,1)\n",
    "\n",
    "\n",
    "x = data[:,[0,1]]\n",
    "\n",
    "y = data[:,2]\n",
    "\n",
    "hid1 = layertest(x, theta1)\n",
    "\n",
    "prediction = layertest(hid1, theta2) #output layer\n",
    "\n",
    "(prediction[:,0] - y)"
   ]
  },
  {
   "cell_type": "code",
   "execution_count": null,
   "metadata": {
    "collapsed": false
   },
   "outputs": [],
   "source": [
    "theta1 = np.random.rand(3,3)\n",
    "theta2 = np.random.rand(4,1)\n",
    "\n",
    "x = data[:,[0,1]]\n",
    "\n",
    "b = np.array(np.repeat(1,data[:,[0,1]].shape[0]).reshape(-1,1))\n",
    "\n",
    "new_x = np.concatenate([b, x], axis=1)\n",
    "\n",
    "m = np.dot(theta1.T, new_x[0,:].T).T\n",
    "h = nnet.relu(m)\n",
    "\n",
    "\n",
    "##########\n",
    "\n",
    "#b = np.array(np.repeat(1,data[:,[0,1]].shape[0]).reshape(-1,1))\n",
    "\n",
    "#new_x = np.concatenate([b, h], axis=1)\n",
    "\n",
    "#m = np.dot(theta2.T, new_x.T).T\n",
    "\n",
    "m\n",
    "\n",
    "#x = np.array([0,1])\n",
    "\n",
    "#b = np.array([1])\n",
    "\n",
    "#new_x = np.concatenate([x, b])\n",
    "\n",
    "#m = np.dot(theta1.T, new_x)\n",
    "\n",
    "#h = nnet.relu(m)\n",
    "\n",
    "\n",
    "#x = np.array([0,1])\n",
    "\n",
    "#b = np.array([1])\n",
    "\n",
    "#new_x = np.concatenate([h, b])\n",
    "\n",
    "#m = np.dot(theta2.T, new_x)\n",
    "\n",
    "#out = nnet.relu(m)\n",
    "\n",
    "#m"
   ]
  },
  {
   "cell_type": "code",
   "execution_count": 6,
   "metadata": {
    "collapsed": true
   },
   "outputs": [
    {
     "ename": "TypeError",
     "evalue": "Join() can only join tensors with the same number of dimensions.",
     "output_type": "error",
     "traceback": [
      "\u001b[1;31m---------------------------------------------------------------------------\u001b[0m",
      "\u001b[1;31mTypeError\u001b[0m                                 Traceback (most recent call last)",
      "\u001b[1;32m<ipython-input-6-6782ca7a0423>\u001b[0m in \u001b[0;36m<module>\u001b[1;34m()\u001b[0m\n\u001b[0;32m      1\u001b[0m \u001b[0mb\u001b[0m \u001b[1;33m=\u001b[0m \u001b[0mnp\u001b[0m\u001b[1;33m.\u001b[0m\u001b[0marray\u001b[0m\u001b[1;33m(\u001b[0m\u001b[1;33m[\u001b[0m\u001b[1;36m1\u001b[0m\u001b[1;33m]\u001b[0m\u001b[1;33m,\u001b[0m \u001b[0mdtype\u001b[0m\u001b[1;33m=\u001b[0m\u001b[0mtheano\u001b[0m\u001b[1;33m.\u001b[0m\u001b[0mconfig\u001b[0m\u001b[1;33m.\u001b[0m\u001b[0mfloatX\u001b[0m\u001b[1;33m)\u001b[0m\u001b[1;33m\u001b[0m\u001b[0m\n\u001b[1;32m----> 2\u001b[1;33m \u001b[0mnew_x\u001b[0m \u001b[1;33m=\u001b[0m \u001b[0mT\u001b[0m\u001b[1;33m.\u001b[0m\u001b[0mconcatenate\u001b[0m\u001b[1;33m(\u001b[0m\u001b[1;33m[\u001b[0m\u001b[0mx\u001b[0m\u001b[1;33m,\u001b[0m \u001b[0mb\u001b[0m\u001b[1;33m]\u001b[0m\u001b[1;33m)\u001b[0m\u001b[1;33m\u001b[0m\u001b[0m\n\u001b[0m\u001b[0;32m      3\u001b[0m \u001b[1;31m##m = T.dot(w.T, new_x) #theta1: 3x3 * x: 3x1 = 3x1 ;;; theta2: 1x4 * 4x1\u001b[0m\u001b[1;33m\u001b[0m\u001b[1;33m\u001b[0m\u001b[0m\n\u001b[0;32m      4\u001b[0m \u001b[1;31m#h = nnet.sigmoid(m)\u001b[0m\u001b[1;33m\u001b[0m\u001b[1;33m\u001b[0m\u001b[0m\n",
      "\u001b[1;32m/usr/local/lib/python2.7/dist-packages/theano/tensor/basic.pyc\u001b[0m in \u001b[0;36mconcatenate\u001b[1;34m(tensor_list, axis)\u001b[0m\n\u001b[0;32m   4223\u001b[0m             \u001b[1;34m\"or a list, make sure you did not forget () or [] around \"\u001b[0m\u001b[1;33m\u001b[0m\u001b[0m\n\u001b[0;32m   4224\u001b[0m             \"arguments of concatenate.\", tensor_list)\n\u001b[1;32m-> 4225\u001b[1;33m     \u001b[1;32mreturn\u001b[0m \u001b[0mjoin\u001b[0m\u001b[1;33m(\u001b[0m\u001b[0maxis\u001b[0m\u001b[1;33m,\u001b[0m \u001b[1;33m*\u001b[0m\u001b[0mtensor_list\u001b[0m\u001b[1;33m)\u001b[0m\u001b[1;33m\u001b[0m\u001b[0m\n\u001b[0m\u001b[0;32m   4226\u001b[0m \u001b[1;33m\u001b[0m\u001b[0m\n\u001b[0;32m   4227\u001b[0m \u001b[1;33m\u001b[0m\u001b[0m\n",
      "\u001b[1;32m/usr/local/lib/python2.7/dist-packages/theano/gof/op.pyc\u001b[0m in \u001b[0;36m__call__\u001b[1;34m(self, *inputs, **kwargs)\u001b[0m\n\u001b[0;32m    609\u001b[0m         \"\"\"\n\u001b[0;32m    610\u001b[0m         \u001b[0mreturn_list\u001b[0m \u001b[1;33m=\u001b[0m \u001b[0mkwargs\u001b[0m\u001b[1;33m.\u001b[0m\u001b[0mpop\u001b[0m\u001b[1;33m(\u001b[0m\u001b[1;34m'return_list'\u001b[0m\u001b[1;33m,\u001b[0m \u001b[0mFalse\u001b[0m\u001b[1;33m)\u001b[0m\u001b[1;33m\u001b[0m\u001b[0m\n\u001b[1;32m--> 611\u001b[1;33m         \u001b[0mnode\u001b[0m \u001b[1;33m=\u001b[0m \u001b[0mself\u001b[0m\u001b[1;33m.\u001b[0m\u001b[0mmake_node\u001b[0m\u001b[1;33m(\u001b[0m\u001b[1;33m*\u001b[0m\u001b[0minputs\u001b[0m\u001b[1;33m,\u001b[0m \u001b[1;33m**\u001b[0m\u001b[0mkwargs\u001b[0m\u001b[1;33m)\u001b[0m\u001b[1;33m\u001b[0m\u001b[0m\n\u001b[0m\u001b[0;32m    612\u001b[0m \u001b[1;33m\u001b[0m\u001b[0m\n\u001b[0;32m    613\u001b[0m         \u001b[1;32mif\u001b[0m \u001b[0mconfig\u001b[0m\u001b[1;33m.\u001b[0m\u001b[0mcompute_test_value\u001b[0m \u001b[1;33m!=\u001b[0m \u001b[1;34m'off'\u001b[0m\u001b[1;33m:\u001b[0m\u001b[1;33m\u001b[0m\u001b[0m\n",
      "\u001b[1;32m/usr/local/lib/python2.7/dist-packages/theano/tensor/basic.pyc\u001b[0m in \u001b[0;36mmake_node\u001b[1;34m(self, *axis_and_tensors)\u001b[0m\n\u001b[0;32m   3748\u001b[0m \u001b[1;33m\u001b[0m\u001b[0m\n\u001b[0;32m   3749\u001b[0m         return self._make_node_internal(\n\u001b[1;32m-> 3750\u001b[1;33m             axis, tensors, as_tensor_variable_args, output_maker)\n\u001b[0m\u001b[0;32m   3751\u001b[0m \u001b[1;33m\u001b[0m\u001b[0m\n\u001b[0;32m   3752\u001b[0m     def _make_node_internal(self, axis, tensors,\n",
      "\u001b[1;32m/usr/local/lib/python2.7/dist-packages/theano/tensor/basic.pyc\u001b[0m in \u001b[0;36m_make_node_internal\u001b[1;34m(self, axis, tensors, as_tensor_variable_args, output_maker)\u001b[0m\n\u001b[0;32m   3814\u001b[0m         if not python_all([x.ndim == len(bcastable)\n\u001b[0;32m   3815\u001b[0m                            for x in as_tensor_variable_args[1:]]):\n\u001b[1;32m-> 3816\u001b[1;33m             raise TypeError(\"Join() can only join tensors with the same \"\n\u001b[0m\u001b[0;32m   3817\u001b[0m                             \"number of dimensions.\")\n\u001b[0;32m   3818\u001b[0m \u001b[1;33m\u001b[0m\u001b[0m\n",
      "\u001b[1;31mTypeError\u001b[0m: Join() can only join tensors with the same number of dimensions."
     ]
    }
   ],
   "source": [
    "b = np.array([1], dtype=theano.config.floatX)\n",
    "new_x = T.concatenate([x, b])\n",
    "##m = T.dot(w.T, new_x) #theta1: 3x3 * x: 3x1 = 3x1 ;;; theta2: 1x4 * 4x1\n",
    "#h = nnet.sigmoid(m)"
   ]
  },
  {
   "cell_type": "code",
   "execution_count": 7,
   "metadata": {
    "collapsed": false
   },
   "outputs": [],
   "source": [
    "hid1 = layer(x, theta1) #hidden layer"
   ]
  },
  {
   "cell_type": "code",
   "execution_count": 8,
   "metadata": {
    "collapsed": false
   },
   "outputs": [],
   "source": [
    "prediction = layerNoActivation(hid1, theta2) #output layer\n",
    "fc = (prediction[:,0] - y)**2 #cost expression\n",
    "\n"
   ]
  },
  {
   "cell_type": "code",
   "execution_count": 9,
   "metadata": {
    "collapsed": false
   },
   "outputs": [],
   "source": [
    "cost = fc.sum()\n",
    "gtheta1, gtheta2 = T.grad(cost, [theta1,theta2])"
   ]
  },
  {
   "cell_type": "code",
   "execution_count": 10,
   "metadata": {
    "collapsed": false
   },
   "outputs": [],
   "source": [
    "train = theano.function(\n",
    "          inputs=[x,y],\n",
    "          outputs=[prediction, fc],\n",
    "          updates=[(theta1, theta1 - 0.001 * gtheta1), (theta2, theta2 - 0.001 * gtheta2)])\n",
    "predict = theano.function(inputs=[x], outputs=prediction)\n",
    "\n",
    "\n"
   ]
  },
  {
   "cell_type": "code",
   "execution_count": 11,
   "metadata": {
    "collapsed": false
   },
   "outputs": [],
   "source": [
    "for i in range(100000):\n",
    "    pred, err = train(data[:,[0,1]], data[:,2])"
   ]
  },
  {
   "cell_type": "code",
   "execution_count": null,
   "metadata": {
    "collapsed": true
   },
   "outputs": [],
   "source": [
    "predict(data[:,[0,1]])"
   ]
  },
  {
   "cell_type": "code",
   "execution_count": 12,
   "metadata": {
    "collapsed": false
   },
   "outputs": [
    {
     "name": "stdout",
     "output_type": "stream",
     "text": [
      "target values for D:\n",
      "[   1   -2  -11  -26  -47  -74 -107 -146 -191 -242    3    0   -9  -24  -45\n",
      "  -72 -105 -144 -189 -240    9    6   -3  -18  -39  -66  -99 -138 -183 -234\n",
      "   19   16    7   -8  -29  -56  -89 -128 -173 -224   33   30   21    6  -15\n",
      "  -42  -75 -114 -159 -210   51   48   39   24    3  -24  -57  -96 -141 -192\n",
      "   73   70   61   46   25   -2  -35  -74 -119 -170   99   96   87   72   51\n",
      "   24   -9  -48  -93 -144  129  126  117  102   81   54   21  -18  -63 -114\n",
      "  163  160  151  136  115   88   55   16  -29  -80]\n",
      "prediction on D:\n",
      "[[-27.49999619]\n",
      " [-27.49999619]\n",
      " [-27.49999619]\n",
      " [-27.49999619]\n",
      " [-27.49999619]\n",
      " [-27.49999619]\n",
      " [-27.49999619]\n",
      " [-27.49999619]\n",
      " [-27.49999619]\n",
      " [-27.49999619]\n",
      " [-27.49999619]\n",
      " [-27.49999619]\n",
      " [-27.49999619]\n",
      " [-27.49999619]\n",
      " [-27.49999619]\n",
      " [-27.49999619]\n",
      " [-27.49999619]\n",
      " [-27.49999619]\n",
      " [-27.49999619]\n",
      " [-27.49999619]\n",
      " [-27.49999619]\n",
      " [-27.49999619]\n",
      " [-27.49999619]\n",
      " [-27.49999619]\n",
      " [-27.49999619]\n",
      " [-27.49999619]\n",
      " [-27.49999619]\n",
      " [-27.49999619]\n",
      " [-27.49999619]\n",
      " [-27.49999619]\n",
      " [-27.49999619]\n",
      " [-27.49999619]\n",
      " [-27.49999619]\n",
      " [-27.49999619]\n",
      " [-27.49999619]\n",
      " [-27.49999619]\n",
      " [-27.49999619]\n",
      " [-27.49999619]\n",
      " [-27.49999619]\n",
      " [-27.49999619]\n",
      " [-27.49999619]\n",
      " [-27.49999619]\n",
      " [-27.49999619]\n",
      " [-27.49999619]\n",
      " [-27.49999619]\n",
      " [-27.49999619]\n",
      " [-27.49999619]\n",
      " [-27.49999619]\n",
      " [-27.49999619]\n",
      " [-27.49999619]\n",
      " [-27.49999619]\n",
      " [-27.49999619]\n",
      " [-27.49999619]\n",
      " [-27.49999619]\n",
      " [-27.49999619]\n",
      " [-27.49999619]\n",
      " [-27.49999619]\n",
      " [-27.49999619]\n",
      " [-27.49999619]\n",
      " [-27.49999619]\n",
      " [-27.49999619]\n",
      " [-27.49999619]\n",
      " [-27.49999619]\n",
      " [-27.49999619]\n",
      " [-27.49999619]\n",
      " [-27.49999619]\n",
      " [-27.49999619]\n",
      " [-27.49999619]\n",
      " [-27.49999619]\n",
      " [-27.49999619]\n",
      " [-27.49999619]\n",
      " [-27.49999619]\n",
      " [-27.49999619]\n",
      " [-27.49999619]\n",
      " [-27.49999619]\n",
      " [-27.49999619]\n",
      " [-27.49999619]\n",
      " [-27.49999619]\n",
      " [-27.49999619]\n",
      " [-27.49999619]\n",
      " [-27.49999619]\n",
      " [-27.49999619]\n",
      " [-27.49999619]\n",
      " [-27.49999619]\n",
      " [-27.49999619]\n",
      " [-27.49999619]\n",
      " [-27.49999619]\n",
      " [-27.49999619]\n",
      " [-27.49999619]\n",
      " [-27.49999619]\n",
      " [-27.49999619]\n",
      " [-27.49999619]\n",
      " [-27.49999619]\n",
      " [-27.49999619]\n",
      " [-27.49999619]\n",
      " [-27.49999619]\n",
      " [-27.49999619]\n",
      " [-27.49999619]\n",
      " [-27.49999619]\n",
      " [-27.49999619]]\n"
     ]
    }
   ],
   "source": [
    "print(\"target values for D:\")\n",
    "print(data[:,2])\n",
    "print(\"prediction on D:\")\n",
    "print(predict(data[:,[0,1]]))"
   ]
  },
  {
   "cell_type": "code",
   "execution_count": null,
   "metadata": {
    "collapsed": false
   },
   "outputs": [],
   "source": [
    "theta1.get_value()"
   ]
  },
  {
   "cell_type": "code",
   "execution_count": null,
   "metadata": {
    "collapsed": false
   },
   "outputs": [],
   "source": [
    "theta2.get_value()"
   ]
  },
  {
   "cell_type": "code",
   "execution_count": 13,
   "metadata": {
    "collapsed": true
   },
   "outputs": [],
   "source": [
    "list1 = [1,1]\n",
    "label1 = [0]\n",
    "list2 = [1,0]\n",
    "label2 = [1]\n",
    "list3 = [0,0]\n",
    "label3 = [0]\n",
    "list4 = [0,1]\n",
    "label4 = [1] \n",
    "train_data = np.array((list1,list2,list3,list4)) #four samples for epoch = 1000\n",
    "label = np.array((label1,label2,label3,label4))"
   ]
  },
  {
   "cell_type": "code",
   "execution_count": 14,
   "metadata": {
    "collapsed": false
   },
   "outputs": [
    {
     "data": {
      "text/plain": [
       "array([[1, 1],\n",
       "       [1, 0],\n",
       "       [0, 0],\n",
       "       [0, 1]])"
      ]
     },
     "execution_count": 14,
     "metadata": {},
     "output_type": "execute_result"
    }
   ],
   "source": [
    "train_data"
   ]
  },
  {
   "cell_type": "code",
   "execution_count": 16,
   "metadata": {
    "collapsed": false
   },
   "outputs": [
    {
     "data": {
      "text/plain": [
       "array([[0, 0],\n",
       "       [0, 1],\n",
       "       [0, 2],\n",
       "       [0, 3],\n",
       "       [0, 4],\n",
       "       [0, 5],\n",
       "       [0, 6],\n",
       "       [0, 7],\n",
       "       [0, 8],\n",
       "       [0, 9],\n",
       "       [1, 0],\n",
       "       [1, 1],\n",
       "       [1, 2],\n",
       "       [1, 3],\n",
       "       [1, 4],\n",
       "       [1, 5],\n",
       "       [1, 6],\n",
       "       [1, 7],\n",
       "       [1, 8],\n",
       "       [1, 9],\n",
       "       [2, 0],\n",
       "       [2, 1],\n",
       "       [2, 2],\n",
       "       [2, 3],\n",
       "       [2, 4],\n",
       "       [2, 5],\n",
       "       [2, 6],\n",
       "       [2, 7],\n",
       "       [2, 8],\n",
       "       [2, 9],\n",
       "       [3, 0],\n",
       "       [3, 1],\n",
       "       [3, 2],\n",
       "       [3, 3],\n",
       "       [3, 4],\n",
       "       [3, 5],\n",
       "       [3, 6],\n",
       "       [3, 7],\n",
       "       [3, 8],\n",
       "       [3, 9],\n",
       "       [4, 0],\n",
       "       [4, 1],\n",
       "       [4, 2],\n",
       "       [4, 3],\n",
       "       [4, 4],\n",
       "       [4, 5],\n",
       "       [4, 6],\n",
       "       [4, 7],\n",
       "       [4, 8],\n",
       "       [4, 9],\n",
       "       [5, 0],\n",
       "       [5, 1],\n",
       "       [5, 2],\n",
       "       [5, 3],\n",
       "       [5, 4],\n",
       "       [5, 5],\n",
       "       [5, 6],\n",
       "       [5, 7],\n",
       "       [5, 8],\n",
       "       [5, 9],\n",
       "       [6, 0],\n",
       "       [6, 1],\n",
       "       [6, 2],\n",
       "       [6, 3],\n",
       "       [6, 4],\n",
       "       [6, 5],\n",
       "       [6, 6],\n",
       "       [6, 7],\n",
       "       [6, 8],\n",
       "       [6, 9],\n",
       "       [7, 0],\n",
       "       [7, 1],\n",
       "       [7, 2],\n",
       "       [7, 3],\n",
       "       [7, 4],\n",
       "       [7, 5],\n",
       "       [7, 6],\n",
       "       [7, 7],\n",
       "       [7, 8],\n",
       "       [7, 9],\n",
       "       [8, 0],\n",
       "       [8, 1],\n",
       "       [8, 2],\n",
       "       [8, 3],\n",
       "       [8, 4],\n",
       "       [8, 5],\n",
       "       [8, 6],\n",
       "       [8, 7],\n",
       "       [8, 8],\n",
       "       [8, 9],\n",
       "       [9, 0],\n",
       "       [9, 1],\n",
       "       [9, 2],\n",
       "       [9, 3],\n",
       "       [9, 4],\n",
       "       [9, 5],\n",
       "       [9, 6],\n",
       "       [9, 7],\n",
       "       [9, 8],\n",
       "       [9, 9]])"
      ]
     },
     "execution_count": 16,
     "metadata": {},
     "output_type": "execute_result"
    }
   ],
   "source": [
    "data[:,[0,1]]"
   ]
  },
  {
   "cell_type": "code",
   "execution_count": null,
   "metadata": {
    "collapsed": true
   },
   "outputs": [],
   "source": []
  }
 ],
 "metadata": {
  "kernelspec": {
   "display_name": "Python 2",
   "language": "python",
   "name": "python2"
  },
  "language_info": {
   "codemirror_mode": {
    "name": "ipython",
    "version": 2
   },
   "file_extension": ".py",
   "mimetype": "text/x-python",
   "name": "python",
   "nbconvert_exporter": "python",
   "pygments_lexer": "ipython2",
   "version": "2.7.6"
  }
 },
 "nbformat": 4,
 "nbformat_minor": 0
}
