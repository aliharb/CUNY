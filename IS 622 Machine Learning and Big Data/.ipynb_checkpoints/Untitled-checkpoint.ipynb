{
 "cells": [
  {
   "cell_type": "code",
   "execution_count": 3,
   "metadata": {
    "collapsed": false
   },
   "outputs": [
    {
     "name": "stdout",
     "output_type": "stream",
     "text": [
      "High five! You successfuly sent some data to your account on plotly. View your plot in your browser at http://plotly.charleyferrari.com/~admin/0 or inside your plot.ly account where it is named 'medals'\n"
     ]
    },
    {
     "data": {
      "text/html": [
       "<iframe id=\"igraph\" scrolling=\"no\" style=\"border:none;\" seamless=\"seamless\" src=\"http://plotly.charleyferrari.com/~admin/0.embed\" height=\"525px\" width=\"100%\"></iframe>"
      ],
      "text/plain": [
       "<plotly.tools.PlotlyDisplay object>"
      ]
     },
     "execution_count": 3,
     "metadata": {},
     "output_type": "execute_result"
    }
   ],
   "source": [
    "import plotly.plotly as py\n",
    "from plotly.graph_objs import *\n",
    "\n",
    "countries = ['United States', 'China', 'South Korea', 'Hungary', 'Austraila', 'Canada']\n",
    "gold = [10, 8, 4, 4, 4, 0]\n",
    "silver = [8, 3, 2, 1, 0, 1]\n",
    "bronze = [9, 6, 1, 1, 5, 4]\n",
    "total = [27, 17, 7, 6, 9, 5]\n",
    "\n",
    "trace1 = Scatter(\n",
    "    x=countries, y=gold,\n",
    "    line=Line(\n",
    "        color='#FFD700',\n",
    "        width=3\n",
    "    ),\n",
    "    name='Gold'\n",
    ")\n",
    "\n",
    "trace2 = Scatter(\n",
    "    x=countries, y=silver,\n",
    "    line=Line(\n",
    "        color='#C0C0C0',\n",
    "        width=3\n",
    "    ),\n",
    "    name='Silver'\n",
    ")\n",
    "\n",
    "trace3 = Scatter(\n",
    "    x=countries, y=bronze,\n",
    "    line=Line(\n",
    "        color='#BA8651',\n",
    "        width=3\n",
    "    ),\n",
    "    name='Bronze'\n",
    ")\n",
    "\n",
    "trace4 = Scatter(\n",
    "    x=countries, y=total,\n",
    "    line=Line(\n",
    "        color='#000000',\n",
    "        width=4\n",
    "    ),\n",
    "    name='Total'\n",
    ")\n",
    "\n",
    "data = Data([trace1, trace2, trace3, trace4])\n",
    "layout = Layout(\n",
    "    title='2016 Summer Olympic Medal Count',\n",
    "    updatemenus=list([\n",
    "        dict(\n",
    "            x=-0.05,\n",
    "            y=1,\n",
    "            yanchor='top',\n",
    "            buttons=list([\n",
    "                dict(\n",
    "                    args=['visible', [True, True, True, True]],\n",
    "                    label='All',\n",
    "                    method='restyle'\n",
    "                ),\n",
    "                dict(\n",
    "                    args=['visible', [True, False, False, False]],\n",
    "                    label='Gold',\n",
    "                    method='restyle'\n",
    "                ),\n",
    "                dict(\n",
    "                    args=['visible', [False, True, False, False]],\n",
    "                    label='Silver',\n",
    "                    method='restyle'\n",
    "                ),\n",
    "                dict(\n",
    "                    args=['visible', [False, False, True, False]],\n",
    "                    label='Bronze',\n",
    "                    method='restyle'\n",
    "                ),\n",
    "                dict(\n",
    "                    args=['visible', [False, False, False, True]],\n",
    "                    label='Total',\n",
    "                    method='restyle'\n",
    "                )\n",
    "            ]),\n",
    "        )\n",
    "    ]),\n",
    ")\n",
    "fig = Figure(data=data, layout=layout)\n",
    "py.iplot(fig, filename = 'medals')"
   ]
  },
  {
   "cell_type": "code",
   "execution_count": 1,
   "metadata": {
    "collapsed": true
   },
   "outputs": [],
   "source": [
    "import plotly \n",
    "plotly.tools.set_config_file(plotly_domain='http://plotly.charleyferrari.com',\n",
    "                             plotly_streaming_domain='stream.plotly.charleyferrari.com', \n",
    "                             plotly_api_domain='http://api.plotly.charleyferrari.com')"
   ]
  },
  {
   "cell_type": "code",
   "execution_count": 1,
   "metadata": {
    "collapsed": true
   },
   "outputs": [],
   "source": [
    "import plotly \n",
    "plotly.tools.set_config_file(plotly_domain='https://plot.ly',\n",
    "                             plotly_streaming_domain='stream.plot.ly', \n",
    "                             plotly_api_domain='https://api.plot.ly')"
   ]
  },
  {
   "cell_type": "code",
   "execution_count": 2,
   "metadata": {
    "collapsed": true
   },
   "outputs": [],
   "source": [
    "plotly.tools.set_credentials_file(username='admin', api_key='6z5hcxuzp3')"
   ]
  },
  {
   "cell_type": "code",
   "execution_count": 2,
   "metadata": {
    "collapsed": true
   },
   "outputs": [],
   "source": [
    "plotly.tools.set_credentials_file(username='charleyferrari', api_key='oksysax3g0')"
   ]
  },
  {
   "cell_type": "code",
   "execution_count": 4,
   "metadata": {
    "collapsed": false
   },
   "outputs": [
    {
     "data": {
      "text/plain": [
       "'1.12.9'"
      ]
     },
     "execution_count": 4,
     "metadata": {},
     "output_type": "execute_result"
    }
   ],
   "source": [
    "from plotly import __version__\n",
    "__version__"
   ]
  },
  {
   "cell_type": "code",
   "execution_count": null,
   "metadata": {
    "collapsed": true
   },
   "outputs": [],
   "source": []
  }
 ],
 "metadata": {
  "kernelspec": {
   "display_name": "Python 2",
   "language": "python",
   "name": "python2"
  },
  "language_info": {
   "codemirror_mode": {
    "name": "ipython",
    "version": 2
   },
   "file_extension": ".py",
   "mimetype": "text/x-python",
   "name": "python",
   "nbconvert_exporter": "python",
   "pygments_lexer": "ipython2",
   "version": "2.7.6"
  }
 },
 "nbformat": 4,
 "nbformat_minor": 0
}
