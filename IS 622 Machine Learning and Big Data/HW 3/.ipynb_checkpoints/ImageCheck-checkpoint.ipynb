{
 "cells": [
  {
   "cell_type": "code",
   "execution_count": null,
   "metadata": {
    "collapsed": false,
    "scrolled": false
   },
   "outputs": [],
   "source": [
    "from PIL import Image\n",
    "import requests\n",
    "from io import StringIO, BytesIO\n",
    "from py_bing_search import PyBingImageSearch\n",
    "import urllib\n",
    "imageDL = urllib.URLopener()\n",
    "from IPython.display import display\n",
    "\n",
    "bing_image = PyBingImageSearch('wkGuAw8dR1ICGTwwPYcZHyOaT3XNPSBpN5JJGyIhlvk', \"surprised look\")\n",
    "results = bing_image.search(limit=150, format='json')\n",
    "\n",
    "#url = 'http://compass.xboxlive.com/assets/d4/1c/d41c7635-71e6-4137-9ce4-073bb16c1508.png?n=360-three-consoles-l.png'\n",
    "\n",
    "#response = requests.get(url)\n",
    "#img = Image.open(StringIO(response.content))\n",
    "\n",
    "#first_seventy_result[0].media_url[(n-4):(n)]\n",
    "\n",
    "count = 1\n",
    "\n",
    "yesno = 'n'\n",
    "\n",
    "\n",
    "\n",
    "for image in results:\n",
    "    url = image.media_url\n",
    "    response = requests.get(url)\n",
    "    try:\n",
    "        display(Image.open(BytesIO(response.content)))\n",
    "        yesno = raw_input(\"Is this an angry person? \")\n",
    "    except IOError: \n",
    "        print('Not a valid URL')\n",
    "    if yesno == 'y':\n",
    "        n = len(image.media_url)\n",
    "        try:\n",
    "            imageDL.retrieve(url, 'surprise' + str(count) + image.media_url[(n-4):(n)])\n",
    "        except IOError:\n",
    "            print('Not a valid URL')\n",
    "        count += 1\n",
    "        \n"
   ]
  },
  {
   "cell_type": "code",
   "execution_count": null,
   "metadata": {
    "collapsed": false
   },
   "outputs": [],
   "source": [
    "len(results)"
   ]
  },
  {
   "cell_type": "code",
   "execution_count": null,
   "metadata": {
    "collapsed": false
   },
   "outputs": [],
   "source": [
    "count"
   ]
  },
  {
   "cell_type": "code",
   "execution_count": null,
   "metadata": {
    "collapsed": false
   },
   "outputs": [],
   "source": [
    "results[11].media_url"
   ]
  },
  {
   "cell_type": "code",
   "execution_count": null,
   "metadata": {
    "collapsed": true
   },
   "outputs": [],
   "source": []
  }
 ],
 "metadata": {
  "kernelspec": {
   "display_name": "Python 2",
   "language": "python",
   "name": "python2"
  },
  "language_info": {
   "codemirror_mode": {
    "name": "ipython",
    "version": 2
   },
   "file_extension": ".py",
   "mimetype": "text/x-python",
   "name": "python",
   "nbconvert_exporter": "python",
   "pygments_lexer": "ipython2",
   "version": "2.7.11"
  }
 },
 "nbformat": 4,
 "nbformat_minor": 0
}
