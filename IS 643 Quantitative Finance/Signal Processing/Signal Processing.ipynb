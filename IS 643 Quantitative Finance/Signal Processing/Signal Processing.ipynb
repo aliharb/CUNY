{
 "cells": [
  {
   "cell_type": "code",
   "execution_count": 1,
   "metadata": {
    "collapsed": true
   },
   "outputs": [],
   "source": [
    "import numpy as np\n",
    "import pytz\n",
    "\n",
    "import math\n",
    "import datetime as dt\n",
    "import statsmodels.tsa.stattools as ts\n",
    "import statsmodels.api as sm\n",
    "import pandas as pd\n",
    "import cufflinks as cf\n",
    "\n",
    "import Quandl as quandl\n",
    "\n",
    "import plotly.plotly as py\n",
    "import plotly.graph_objs as go\n",
    "%matplotlib inline\n"
   ]
  },
  {
   "cell_type": "code",
   "execution_count": 365,
   "metadata": {
    "collapsed": true
   },
   "outputs": [],
   "source": [
    "pair =  ('GOOG', 'AAPL')\n",
    "\n",
    "stock1 = 'WIKI/' + pair[0]\n",
    "stock2 = 'WIKI/' + pair[1]\n",
    "\n",
    "stocks = pd.concat([quandl.get(stock1, authtoken=\"1Cx13bkj4vDb7E13GLD6\")['Adj. Close'].ix['01/01/2011':'04/30/2016'],\n",
    "                    quandl.get(stock2, authtoken=\"1Cx13bkj4vDb7E13GLD6\")['Adj. Close'].ix['01/01/2011':'04/30/2016']], \n",
    "                   axis=1).dropna()\n",
    "\n",
    "stocks.columns = [pair[0], pair[1]]\n",
    "\n",
    "#stocks = stocks.apply(np.log10, axis=1)"
   ]
  },
  {
   "cell_type": "code",
   "execution_count": 257,
   "metadata": {
    "collapsed": false
   },
   "outputs": [],
   "source": [
    "pair =  ('EWA', 'EWC')\n",
    "\n",
    "#stock1 = 'GOOG/AMEX_' + pair[0]\n",
    "#stock2 = 'GOOG/AMEX_' + pair[1]\n",
    "\n",
    "stocks = pd.concat([quandl.get(stock1, authtoken=\"1Cx13bkj4vDb7E13GLD6\")['Close'].ix['01/01/2011':'04/30/2016'],\n",
    "                    quandl.get(stock2, authtoken=\"1Cx13bkj4vDb7E13GLD6\")['Close'].ix['01/01/2011':'04/30/2016']], \n",
    "                   axis=1).dropna()\n",
    "\n",
    "stocks.columns = [pair[0], pair[1]]\n",
    "\n",
    "#stocks = stocks.apply(np.log10, axis=1)"
   ]
  },
  {
   "cell_type": "code",
   "execution_count": 269,
   "metadata": {
    "collapsed": false
   },
   "outputs": [],
   "source": [
    "x = pd.read_csv('x.csv', header=None)\n",
    "\n",
    "y = pd.read_csv('y.csv', header=None)\n",
    "\n",
    "x = np.array(x)\n",
    "\n",
    "y = np.array(y)\n"
   ]
  },
  {
   "cell_type": "code",
   "execution_count": 366,
   "metadata": {
    "collapsed": false
   },
   "outputs": [],
   "source": [
    "x = np.concatenate([stocks[pair[0]].values.reshape(-1,1), np.ones([len(stocks[pair[0]].values),1])], axis=1)\n",
    "y = stocks[pair[1]].values.reshape(-1,1)\n",
    "\n",
    "delta = 0.0001\n",
    "\n",
    "yhat = [] # Measurement Prediction\n",
    "\n",
    "e = [] # Measurement prediction error\n",
    "\n",
    "Q = [] # Measurement prediction error variance\n",
    "\n",
    "# R(t|t) will be P(t)\n",
    "\n",
    "P = np.zeros([2,2])\n",
    "\n",
    "R = np.zeros([2,2])\n",
    "\n",
    "beta = np.zeros([2,1])\n",
    "\n",
    "Vw = (delta / (1-delta)) * np.eye(2)\n",
    "\n",
    "Ve = 0.001\n",
    "\n",
    "for i in np.arange(0, np.size(y)):\n",
    "#for i in np.arange(0, 10):\n",
    "    if i > 0:\n",
    "        beta = np.concatenate([beta, beta[:,-1].reshape(-1,1)], axis=1) # State prediction\n",
    "        R = P + Vw # State Covariance Prediction, 3.8\n",
    "\n",
    "    yhat.append(x[i, :].dot(beta[:,i])) # Measurement Prediction, Equation 3.9\n",
    "\n",
    "    Q.append(float(x[i,:].dot(R.dot(x[i,:].reshape(-1,1))) + Ve)) # Measurement variance prediction, Equation 3.10\n",
    "\n",
    "    #Observe y(t)\n",
    "    e.append(float(y[i] - yhat[i]))\n",
    "\n",
    "    K = R.dot(x[i,:].reshape(-1,1))/Q[i] # Kalman Gain\n",
    "\n",
    "    beta[:,i] = beta[:,i] + K[:,0]*e[-1] # State update\n",
    "    \n",
    "    P = R - (K*x[i,:]).dot(R)\n",
    "    \n",
    "    #P=R-K*x(t, :)*R;"
   ]
  },
  {
   "cell_type": "code",
   "execution_count": 367,
   "metadata": {
    "collapsed": false
   },
   "outputs": [],
   "source": [
    "stocks['yhat'] = yhat\n",
    "stocks['beta0'] = beta[0,:]\n",
    "stocks['beta1'] = beta[1,:]"
   ]
  },
  {
   "cell_type": "code",
   "execution_count": 368,
   "metadata": {
    "collapsed": false
   },
   "outputs": [
    {
     "data": {
      "text/html": [
       "<iframe id=\"igraph\" scrolling=\"no\" style=\"border:none;\"seamless=\"seamless\" src=\"https://plot.ly/~charleyferrari/471.embed\" height=\"525px\" width=\"100%\"></iframe>"
      ],
      "text/plain": [
       "<plotly.tools.PlotlyDisplay object>"
      ]
     },
     "execution_count": 368,
     "metadata": {},
     "output_type": "execute_result"
    }
   ],
   "source": [
    "trace = go.Scatter(\n",
    "    x = stocks.index[2:],\n",
    "    y = stocks['beta0'].values[2:]\n",
    ")\n",
    "\n",
    "layout = dict(title = 'Kalman Estimate of the Slope',\n",
    "              xaxis = dict(title = 'Date'),\n",
    "              yaxis = dict(title = 'Slope'),\n",
    ")\n",
    "\n",
    "fig = dict(data = [trace], layout = layout)\n",
    "\n",
    "py.iplot(fig, filename = 'Kalman Slope')"
   ]
  },
  {
   "cell_type": "code",
   "execution_count": 369,
   "metadata": {
    "collapsed": false
   },
   "outputs": [
    {
     "data": {
      "text/html": [
       "<iframe id=\"igraph\" scrolling=\"no\" style=\"border:none;\"seamless=\"seamless\" src=\"https://plot.ly/~charleyferrari/473.embed\" height=\"525px\" width=\"100%\"></iframe>"
      ],
      "text/plain": [
       "<plotly.tools.PlotlyDisplay object>"
      ]
     },
     "execution_count": 369,
     "metadata": {},
     "output_type": "execute_result"
    }
   ],
   "source": [
    "trace = go.Scatter(\n",
    "    x = stocks.index[2:],\n",
    "    y = stocks['beta1'].values[2:]\n",
    ")\n",
    "\n",
    "layout = dict(title = 'Kalman Estimate of the Intercept',\n",
    "              xaxis = dict(title = 'Date'),\n",
    "              yaxis = dict(title = 'Intercept'),\n",
    ")\n",
    "\n",
    "fig = dict(data = [trace], layout = layout)\n",
    "\n",
    "py.iplot(fig, filename = 'Kalman Intercept')"
   ]
  },
  {
   "cell_type": "code",
   "execution_count": 385,
   "metadata": {
    "collapsed": false
   },
   "outputs": [],
   "source": [
    "a = np.array([1,2]).reshape(1,-1)"
   ]
  },
  {
   "cell_type": "code",
   "execution_count": 390,
   "metadata": {
    "collapsed": false
   },
   "outputs": [
    {
     "data": {
      "text/plain": [
       "array([[1, 2],\n",
       "       [1, 2]])"
      ]
     },
     "execution_count": 390,
     "metadata": {},
     "output_type": "execute_result"
    }
   ],
   "source": [
    "np.concatenate([a, np.array([[1,2]])], axis=0)"
   ]
  },
  {
   "cell_type": "code",
   "execution_count": 381,
   "metadata": {
    "collapsed": false
   },
   "outputs": [],
   "source": [
    "a = np.array([2]).reshape(1,-1)"
   ]
  },
  {
   "cell_type": "code",
   "execution_count": 384,
   "metadata": {
    "collapsed": false
   },
   "outputs": [
    {
     "ename": "ValueError",
     "evalue": "all the input arrays must have same number of dimensions",
     "output_type": "error",
     "traceback": [
      "\u001b[0;31m---------------------------------------------------------------------------\u001b[0m",
      "\u001b[0;31mValueError\u001b[0m                                Traceback (most recent call last)",
      "\u001b[0;32m<ipython-input-384-09f71a53f0f8>\u001b[0m in \u001b[0;36m<module>\u001b[0;34m()\u001b[0m\n\u001b[0;32m----> 1\u001b[0;31m \u001b[0mnp\u001b[0m\u001b[0;34m.\u001b[0m\u001b[0mconcatenate\u001b[0m\u001b[0;34m(\u001b[0m\u001b[0;34m[\u001b[0m\u001b[0ma\u001b[0m\u001b[0;34m,\u001b[0m \u001b[0;34m[\u001b[0m\u001b[0;36m2\u001b[0m\u001b[0;34m]\u001b[0m\u001b[0;34m]\u001b[0m\u001b[0;34m,\u001b[0m \u001b[0maxis\u001b[0m\u001b[0;34m=\u001b[0m\u001b[0;36m0\u001b[0m\u001b[0;34m)\u001b[0m\u001b[0;34m\u001b[0m\u001b[0m\n\u001b[0m",
      "\u001b[0;31mValueError\u001b[0m: all the input arrays must have same number of dimensions"
     ]
    }
   ],
   "source": [
    "np.concatenate([a, [2]], axis=0)"
   ]
  },
  {
   "cell_type": "code",
   "execution_count": 391,
   "metadata": {
    "collapsed": false
   },
   "outputs": [
    {
     "data": {
      "text/plain": [
       "array([[ 0.        ,  0.13116538,  0.13185128, ...,  0.1377345 ,\n",
       "         0.13635531,  0.13444709],\n",
       "       [ 0.        ,  0.00023423,  0.00023547, ...,  0.00723727,\n",
       "         0.0072137 ,  0.00721504]])"
      ]
     },
     "execution_count": 391,
     "metadata": {},
     "output_type": "execute_result"
    }
   ],
   "source": [
    "beta"
   ]
  },
  {
   "cell_type": "code",
   "execution_count": null,
   "metadata": {
    "collapsed": true
   },
   "outputs": [],
   "source": []
  }
 ],
 "metadata": {
  "kernelspec": {
   "display_name": "Python 3",
   "language": "python",
   "name": "python3"
  },
  "language_info": {
   "codemirror_mode": {
    "name": "ipython",
    "version": 3
   },
   "file_extension": ".py",
   "mimetype": "text/x-python",
   "name": "python",
   "nbconvert_exporter": "python",
   "pygments_lexer": "ipython3",
   "version": "3.5.1"
  }
 },
 "nbformat": 4,
 "nbformat_minor": 0
}
