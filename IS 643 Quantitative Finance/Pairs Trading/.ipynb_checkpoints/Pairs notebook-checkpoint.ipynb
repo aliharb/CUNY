{
 "cells": [
  {
   "cell_type": "code",
   "execution_count": 1,
   "metadata": {
    "collapsed": false
   },
   "outputs": [],
   "source": [
    "import math\n",
    "import numpy as np\n",
    "import datetime as dt\n",
    "import statsmodels.tsa.stattools as ts\n",
    "import statsmodels.api as sm\n",
    "import pandas as pd\n",
    "import cufflinks as cf\n",
    "\n",
    "import Quandl as quandl\n",
    "\n",
    "import plotly.plotly as py\n",
    "import plotly.graph_objs as go\n",
    "%matplotlib inline\n"
   ]
  },
  {
   "cell_type": "code",
   "execution_count": 7,
   "metadata": {
    "collapsed": false
   },
   "outputs": [],
   "source": [
    "pair =  ('AEP', 'LLY')\n",
    "\n",
    "stock1 = 'WIKI/' + pair[0]\n",
    "stock2 = 'WIKI/' + pair[1]\n",
    "\n",
    "stocks = pd.concat([quandl.get(stock1, authtoken=\"1Cx13bkj4vDb7E13GLD6\")['Adj. Close'].ix['01/01/2011':'04/30/2016'],\n",
    "                    quandl.get(stock2, authtoken=\"1Cx13bkj4vDb7E13GLD6\")['Adj. Close'].ix['01/01/2011':'04/30/2016']], \n",
    "                   axis=1).dropna()\n",
    "\n",
    "stocks.columns = [pair[0], pair[1]]\n",
    "\n",
    "stocks = stocks.apply(np.log10, axis=1)"
   ]
  },
  {
   "cell_type": "code",
   "execution_count": null,
   "metadata": {
    "collapsed": true
   },
   "outputs": [],
   "source": [
    "pair =  ('EWA', 'EWC')\n",
    "\n",
    "stock1 = 'GOOG/AMEX_' + pair[0]\n",
    "stock2 = 'GOOG/AMEX_' + pair[1]\n",
    "\n",
    "stocks = pd.concat([quandl.get(stock1, authtoken=\"1Cx13bkj4vDb7E13GLD6\")['Close'].ix['01/01/2011':'04/30/2016'],\n",
    "                    quandl.get(stock2, authtoken=\"1Cx13bkj4vDb7E13GLD6\")['Close'].ix['01/01/2011':'04/30/2016']], \n",
    "                   axis=1).dropna()\n",
    "\n",
    "stocks.columns = [pair[0], pair[1]]\n",
    "\n",
    "stocks = stocks.apply(np.log10, axis=1)"
   ]
  },
  {
   "cell_type": "code",
   "execution_count": 8,
   "metadata": {
    "collapsed": true
   },
   "outputs": [],
   "source": [
    "#conduct augmented dickey fuller or array x with a default\n",
    "#level of 10%\n",
    "def is_stationary(x, p):\n",
    "    \n",
    "    x = np.array(x)\n",
    "    result = ts.adfuller(x, regression='ctt')\n",
    "    #1% level\n",
    "    if p == 1:\n",
    "        #if DFStat <= critical value\n",
    "        if result[0] >= result[4]['1%']:        #DFstat is less negative\n",
    "            #is stationary\n",
    "            return True\n",
    "        else:\n",
    "            #is nonstationary\n",
    "            return False\n",
    "    #5% level\n",
    "    if p == 5:\n",
    "        #if DFStat <= critical value\n",
    "        if result[0] >= result[4]['5%']:        #DFstat is less negative\n",
    "            #is stationary\n",
    "            return True\n",
    "        else:\n",
    "            #is nonstationary\n",
    "            return False\n",
    "    #10% level\n",
    "    if p == 10:\n",
    "        #if DFStat <= critical value\n",
    "        if result[0] >= result[4]['10%']:        #DFstat is less negative\n",
    "            #is stationary\n",
    "            return True\n",
    "        else:\n",
    "            #is nonstationary\n",
    "            return False\n",
    "    \n",
    "    \n",
    "#Engle-Granger test for cointegration for array x and array y\n",
    "def are_cointegrated(x, y):\n",
    "\n",
    "    #check x is I(1) via Augmented Dickey Fuller\n",
    "    x_is_I1 = not(is_stationary(x, 10))\n",
    "    #check y is I(1) via Augmented Dickey Fuller\n",
    "    y_is_I1 = not(is_stationary(y, 10))\n",
    "    #if x and y are no stationary        \n",
    "    if x_is_I1 and y_is_I1:\n",
    "        X = sm.add_constant(x)\n",
    "        #regress x on y\n",
    "        model = sm.OLS(np.array(y), np.array(X))\n",
    "        results = model.fit()\n",
    "        const = results.params[1]\n",
    "        beta_1 = results.params[0]\n",
    "        #solve for ut_hat\n",
    "        u_hat = []\n",
    "        for i in range(0, len(y)):\n",
    "            u_hat.append(y[i] - x[i] * beta_1 - const)    \n",
    "        #check ut_hat is I(0) via Augmented Dickey Fuller\n",
    "        u_hat_is_I0 = is_stationary(u_hat, 1)\n",
    "        #if ut_hat is I(0)\n",
    "        if u_hat_is_I0:\n",
    "            #x and y are cointegrated\n",
    "            return True\n",
    "        else:\n",
    "            #x and y are not cointegrated\n",
    "            return False \n",
    "    #if x or y are nonstationary they are not cointegrated\n",
    "    else:\n",
    "        return False\n",
    "    \n",
    "def pd_are_cointegrated(v):\n",
    "    \n",
    "    x = v.ix[:,0]\n",
    "    y = v.ix[:,1]\n",
    "\n",
    "    #check x is I(1) via Augmented Dickey Fuller\n",
    "    x_is_I1 = not(is_stationary(x, 10))\n",
    "    #check y is I(1) via Augmented Dickey Fuller\n",
    "    y_is_I1 = not(is_stationary(y, 10))\n",
    "    #if x and y are no stationary        \n",
    "    if x_is_I1 and y_is_I1:\n",
    "        X = sm.add_constant(x)\n",
    "        #regress x on y\n",
    "        model = sm.OLS(np.array(y), np.array(X))\n",
    "        results = model.fit()\n",
    "        const = results.params[1]\n",
    "        beta_1 = results.params[0]\n",
    "        #solve for ut_hat\n",
    "        u_hat = []\n",
    "        for i in range(0, len(y)):\n",
    "            u_hat.append(y[i] - x[i] * beta_1 - const)    \n",
    "        #check ut_hat is I(0) via Augmented Dickey Fuller\n",
    "        u_hat_is_I0 = is_stationary(u_hat, 10)\n",
    "        #if ut_hat is I(0)\n",
    "        if u_hat_is_I0:\n",
    "            #x and y are cointegrated\n",
    "            return True\n",
    "        else:\n",
    "            #x and y are not cointegrated\n",
    "            return False \n",
    "    #if x or y are nonstationary they are not cointegrated\n",
    "    else:\n",
    "        return False"
   ]
  },
  {
   "cell_type": "code",
   "execution_count": 39,
   "metadata": {
    "collapsed": true
   },
   "outputs": [],
   "source": [
    "#s = pd.concat([ (pd.Series(vwap(df.iloc[i:i+window]), index=[df.index[i+window]])) for i in range(len(df)-window) ])"
   ]
  },
  {
   "cell_type": "code",
   "execution_count": 9,
   "metadata": {
    "collapsed": false
   },
   "outputs": [],
   "source": [
    "\n",
    "\n",
    "window = 50\n",
    "\n",
    "s = pd.concat([ (pd.Series(pd_are_cointegrated(stocks.iloc[i:i+window]), index=[stocks.index[i+window]])) \n",
    "              for i in range(len(stocks)-window)])\n",
    "\n"
   ]
  },
  {
   "cell_type": "code",
   "execution_count": 10,
   "metadata": {
    "collapsed": false
   },
   "outputs": [],
   "source": [
    "startlist = []\n",
    "endlist = []\n",
    "\n",
    "\n",
    "if s[0]:\n",
    "    startlist.append(s.index[0])\n",
    "    \n",
    "test = False  \n",
    "for date in s.index:\n",
    "    if test:\n",
    "        if not s[date]:\n",
    "            test = False\n",
    "            endlist.append(date)\n",
    "    else: \n",
    "        if s[date]:\n",
    "            test = True\n",
    "            startlist.append(date)\n",
    "            \n",
    "if s[-1]:\n",
    "    endlist.append(s.index[-1])\n",
    "    \n",
    "    \n",
    "starttradelist = []\n",
    "endtradelist = []\n",
    "\n",
    "\n",
    "            \n",
    "    "
   ]
  },
  {
   "cell_type": "code",
   "execution_count": 11,
   "metadata": {
    "collapsed": false
   },
   "outputs": [
    {
     "data": {
      "text/html": [
       "<iframe id=\"igraph\" scrolling=\"no\" style=\"border:none;\"seamless=\"seamless\" src=\"https://plot.ly/~charleyferrari/429.embed\" height=\"587px\" width=\"1116px\"></iframe>"
      ],
      "text/plain": [
       "<plotly.tools.PlotlyDisplay object>"
      ]
     },
     "execution_count": 11,
     "metadata": {},
     "output_type": "execute_result"
    }
   ],
   "source": [
    "\n",
    "\n",
    "vspanlist = []\n",
    "for i in range(0, len(startlist)):\n",
    "    vspanlist.append({\n",
    "            'x0': startlist[i],\n",
    "            'x1': endlist[i], \n",
    "            'color': 'rgba(30,30,30,0.3)',\n",
    "            'fill': True,\n",
    "            'opacity': .4\n",
    "        })\n",
    "\n",
    "    \n",
    "stocks.iplot(vspan=vspanlist, filename='Cointegration/Coint Example')"
   ]
  }
 ],
 "metadata": {
  "kernelspec": {
   "display_name": "Python 3",
   "language": "python",
   "name": "python3"
  },
  "language_info": {
   "codemirror_mode": {
    "name": "ipython",
    "version": 3
   },
   "file_extension": ".py",
   "mimetype": "text/x-python",
   "name": "python",
   "nbconvert_exporter": "python",
   "pygments_lexer": "ipython3",
   "version": "3.5.1"
  }
 },
 "nbformat": 4,
 "nbformat_minor": 0
}
