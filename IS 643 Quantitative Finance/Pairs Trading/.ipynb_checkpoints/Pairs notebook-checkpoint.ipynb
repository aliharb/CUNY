{
 "cells": [
  {
   "cell_type": "code",
   "execution_count": 3,
   "metadata": {
    "collapsed": false
   },
   "outputs": [],
   "source": [
    "import math\n",
    "import numpy as np\n",
    "import datetime as dt\n",
    "import statsmodels.tsa.stattools as ts\n",
    "import statsmodels.api as sm\n",
    "import pandas as pd\n",
    "import Quandl"
   ]
  },
  {
   "cell_type": "code",
   "execution_count": null,
   "metadata": {
    "collapsed": true
   },
   "outputs": [],
   "source": [
    "def initialize(context):\n",
    "    global all_pairs\n",
    "\n",
    "    #dictionary of our stock universe\n",
    "    #(stock sid, stock history with length max_lag)\n",
    "    context.stocks = {\"CAG\": (sid(1228), []),\n",
    "                      \"MO\": (sid(5885), []),\n",
    "                      \"SRE\": (sid(24778), []),\n",
    "                      \"VTR\": (sid(18821), []),\n",
    "                      \"YUM\": (sid(17787), []),\n",
    "                      \"NE\": (sid(5249), []),}\n",
    "\n",
    "    tuple_list = [('CAG', 'MO'),('SRE', 'VTR'),('YUM', 'NE')]\n",
    "\n",
    "    for t in tuple_list:\n",
    "        ticker_x = t[0]\n",
    "        ticker_y = t[1]\n",
    "\n",
    "        sid_x = (context.stocks)[ticker_x][0]\n",
    "        sid_y = (context.stocks)[ticker_y][0]\n",
    "        #get difference\n",
    "        dif_list = []\n",
    "        stdev = 0\n",
    "        #get average\n",
    "        ave = 0\n",
    "        #get cointegration\n",
    "        is_cointegrated = False\n",
    "        #append pair\n",
    "        all_pairs.append( [(ticker_x, ticker_y),\n",
    "                          (sid_x, sid_y),\n",
    "                          is_cointegrated,\n",
    "                          dif_list,\n",
    "                          ave,\n",
    "                          stdev])"
   ]
  },
  {
   "cell_type": "code",
   "execution_count": 121,
   "metadata": {
    "collapsed": false
   },
   "outputs": [],
   "source": [
    "mo = Quandl.get(\"WIKI/MO\", authtoken=\"1Cx13bkj4vDb7E13GLD6\")\n",
    "cag = Quandl.get(\"WIKI/CAG\", authtoken=\"1Cx13bkj4vDb7E13GLD6\")\n",
    "sre = Quandl.get(\"WIKI/SRE\", authtoken=\"1Cx13bkj4vDb7E13GLD6\")\n",
    "vtr = Quandl.get(\"WIKI/VTR\", authtoken=\"1Cx13bkj4vDb7E13GLD6\")\n",
    "yum = Quandl.get(\"WIKI/YUM\", authtoken=\"1Cx13bkj4vDb7E13GLD6\")\n",
    "ne = Quandl.get(\"WIKI/NE\", authtoken=\"1Cx13bkj4vDb7E13GLD6\")"
   ]
  },
  {
   "cell_type": "code",
   "execution_count": null,
   "metadata": {
    "collapsed": true
   },
   "outputs": [],
   "source": [
    "tuple_list = [('CAG', 'MO'),('SRE', 'VTR'),('YUM', 'NE')]\n",
    "\n",
    "for t in tuple_list:\n",
    "    ticker_x = t[0]\n",
    "    ticker_y = t[1]\n",
    "\n",
    "    sid_x = (context.stocks)[ticker_x][0]\n",
    "    sid_y = (context.stocks)[ticker_y][0]\n",
    "    #get difference\n",
    "    dif_list = []\n",
    "    stdev = 0\n",
    "    #get average\n",
    "    ave = 0\n",
    "    #get cointegration\n",
    "    is_cointegrated = False\n",
    "    #append pair\n",
    "    all_pairs.append( [(ticker_x, ticker_y),\n",
    "                      (sid_x, sid_y),\n",
    "                      is_cointegrated,\n",
    "                      dif_list,\n",
    "                      ave,\n",
    "                      stdev])"
   ]
  },
  {
   "cell_type": "code",
   "execution_count": 7,
   "metadata": {
    "collapsed": false
   },
   "outputs": [
    {
     "data": {
      "text/plain": [
       "array([ 36.  ,  36.75,  37.5 , ...,  63.56,  63.41,  63.8 ])"
      ]
     },
     "execution_count": 7,
     "metadata": {},
     "output_type": "execute_result"
    }
   ],
   "source": [
    "mo.Close.values"
   ]
  },
  {
   "cell_type": "code",
   "execution_count": 8,
   "metadata": {
    "collapsed": false
   },
   "outputs": [
    {
     "data": {
      "text/plain": [
       "(-4.3027000469792069,\n",
       " 0.012558128452627543,\n",
       " 5,\n",
       " 11668,\n",
       " {'1%': -4.3721234240917743,\n",
       "  '10%': -3.5535736830734255,\n",
       "  '5%': -3.8328962368287556},\n",
       " 49359.102712600499)"
      ]
     },
     "execution_count": 8,
     "metadata": {},
     "output_type": "execute_result"
    }
   ],
   "source": [
    "ts.adfuller(mo.Close.values, regression='ctt')"
   ]
  },
  {
   "cell_type": "code",
   "execution_count": 9,
   "metadata": {
    "collapsed": true
   },
   "outputs": [],
   "source": [
    "result = ts.adfuller(mo.Close.values, regression='ctt')"
   ]
  },
  {
   "cell_type": "code",
   "execution_count": 38,
   "metadata": {
    "collapsed": false
   },
   "outputs": [
    {
     "ename": "NameError",
     "evalue": "name 'Date' is not defined",
     "output_type": "error",
     "traceback": [
      "\u001b[0;31m---------------------------------------------------------------------------\u001b[0m",
      "\u001b[0;31mNameError\u001b[0m                                 Traceback (most recent call last)",
      "\u001b[0;32m<ipython-input-38-641a464a697d>\u001b[0m in \u001b[0;36m<module>\u001b[0;34m()\u001b[0m\n\u001b[0;32m----> 1\u001b[0;31m \u001b[0mmo\u001b[0m\u001b[0;34m.\u001b[0m\u001b[0mix\u001b[0m\u001b[0;34m[\u001b[0m\u001b[0;34m'Close'\u001b[0m\u001b[0;34m,\u001b[0m \u001b[0mDate\u001b[0m \u001b[0;34m>\u001b[0m \u001b[0;34m'1990-01-01'\u001b[0m\u001b[0;34m]\u001b[0m\u001b[0;34m\u001b[0m\u001b[0m\n\u001b[0m",
      "\u001b[0;31mNameError\u001b[0m: name 'Date' is not defined"
     ]
    }
   ],
   "source": [
    "mo.ix['Close', Date > '1990-01-01']"
   ]
  },
  {
   "cell_type": "code",
   "execution_count": 11,
   "metadata": {
    "collapsed": true
   },
   "outputs": [],
   "source": [
    "def is_stationary(x, p = 10):\n",
    "\n",
    "    x = np.array(x)\n",
    "    result = ts.adfuller(x, regression='ctt')\n",
    "    #1% level\n",
    "    if p == 1:\n",
    "        #if DFStat <= critical value\n",
    "        if result[0] >= result[4]['1%']:        #DFstat is less negative\n",
    "            #is stationary\n",
    "            return True\n",
    "        else:\n",
    "            #is nonstationary\n",
    "            return False\n",
    "    #5% level\n",
    "    if p == 5:\n",
    "        #if DFStat <= critical value\n",
    "        if result[0] >= result[4]['5%']:        #DFstat is less negative\n",
    "            #is stationary\n",
    "            return True\n",
    "        else:\n",
    "            #is nonstationary\n",
    "            return False\n",
    "    #10% level\n",
    "    if p == 10:\n",
    "        #if DFStat <= critical value\n",
    "        if result[0] >= result[4]['10%']:        #DFstat is less negative\n",
    "            #is stationary\n",
    "            return True\n",
    "        else:\n",
    "            #is nonstationary\n",
    "            return False"
   ]
  },
  {
   "cell_type": "code",
   "execution_count": 118,
   "metadata": {
    "collapsed": true
   },
   "outputs": [],
   "source": [
    "def are_cointegrated(x, y):\n",
    "\n",
    "    #check x is I(1) via Augmented Dickey Fuller\n",
    "    x_is_I1 = not(is_stationary(x))\n",
    "    #check y is I(1) via Augmented Dickey Fuller\n",
    "    y_is_I1 = not(is_stationary(y))\n",
    "    #if x and y are no stationary\n",
    "    if x_is_I1 and y_is_I1:\n",
    "        X = sm.add_constant(x)\n",
    "        #regress x on y\n",
    "        model = sm.OLS(np.array(y), np.array(X))\n",
    "        results = model.fit()\n",
    "        const = results.params[1]\n",
    "        beta_1 = results.params[0]\n",
    "        #solve for ut_hat\n",
    "        u_hat = []\n",
    "        for i in range(0, len(y)):\n",
    "            u_hat.append(y[i] - x[i] * beta_1 - const)\n",
    "        #check ut_hat is I(0) via Augmented Dickey Fuller\n",
    "        u_hat_is_I0 = is_stationary(u_hat)\n",
    "        #if ut_hat is I(0)\n",
    "        if u_hat_is_I0:\n",
    "            #x and y are cointegrated\n",
    "            return True\n",
    "        else:\n",
    "            #x and y are not cointegrated\n",
    "            return False\n",
    "    #if x or y are nonstationary they are not cointegrated\n",
    "    else:\n",
    "        return False"
   ]
  },
  {
   "cell_type": "code",
   "execution_count": 81,
   "metadata": {
    "collapsed": true
   },
   "outputs": [],
   "source": [
    "mojoin = mo.ix[mo.index >= '2000-01-01']['Close']\n",
    "cagjoin = cag.ix[cag.index >= '2000-01-01']['Close']"
   ]
  },
  {
   "cell_type": "code",
   "execution_count": 88,
   "metadata": {
    "collapsed": false
   },
   "outputs": [],
   "source": [
    "pairs = pd.concat([mojoin, cagjoin], join='inner', axis=1)\n",
    "pairs.columns = ['mo', 'cag']"
   ]
  },
  {
   "cell_type": "code",
   "execution_count": 117,
   "metadata": {
    "collapsed": false
   },
   "outputs": [],
   "source": [
    "x = pairs.mo.values\n",
    "\n",
    "X = sm.add_constant(pairs.mo.values)\n",
    "y = pairs.cag.values\n",
    "\n",
    "model = sm.OLS(np.array(y), np.array(X))\n",
    "results = model.fit()\n",
    "const = results.params[1]\n",
    "beta_1 = results.params[0]\n",
    "\n",
    "u_hat = []\n",
    "for i in range(0, len(y)):\n",
    "    u_hat.append(y[i] - x[i] * beta_1 - const)"
   ]
  },
  {
   "cell_type": "code",
   "execution_count": 119,
   "metadata": {
    "collapsed": false
   },
   "outputs": [
    {
     "data": {
      "text/plain": [
       "False"
      ]
     },
     "execution_count": 119,
     "metadata": {},
     "output_type": "execute_result"
    }
   ],
   "source": [
    "are_cointegrated(pairs.mo.values, pairs.cag.values)"
   ]
  },
  {
   "cell_type": "code",
   "execution_count": 120,
   "metadata": {
    "collapsed": true
   },
   "outputs": [],
   "source": [
    "def update_all_pairs(context):\n",
    "    #pair = [(ticker_x, ticker_y), (sid_x, sid_y), is_cointegrated, dif_list, ave, stdev]\n",
    "    global all_pairs\n",
    "\n",
    "    #for each pair\n",
    "    for p in range(0, len(all_pairs)):\n",
    "        ticker_x = all_pairs[p][0][0]\n",
    "        ticker_y = all_pairs[p][0][1]\n",
    "\n",
    "        #get history\n",
    "        x_history = (context.stocks)[ticker_x][1]\n",
    "        y_history = (context.stocks)[ticker_y][1]\n",
    "        #get difference\n",
    "        dif_list = []\n",
    "        for i in range (0, len(x_history)):\n",
    "            dif_list.append(x_history[i] - y_history[i])\n",
    "        #get stdev\n",
    "        stdev = np.std(dif_list)\n",
    "        #get average\n",
    "        ave = np.average(dif_list)\n",
    "        #get cointegration\n",
    "        is_cointegrated = are_cointegrated(x_history, y_history)\n",
    "        #update information\n",
    "        all_pairs[p] = [all_pairs[p][0], all_pairs[p][1], is_cointegrated, dif_list, ave, stdev]\n",
    "        log.info(str(all_pairs[p]))"
   ]
  },
  {
   "cell_type": "code",
   "execution_count": 125,
   "metadata": {
    "collapsed": false
   },
   "outputs": [
    {
     "data": {
      "text/plain": [
       "tuple"
      ]
     },
     "execution_count": 125,
     "metadata": {},
     "output_type": "execute_result"
    }
   ],
   "source": [
    "type((3,4))"
   ]
  },
  {
   "cell_type": "code",
   "execution_count": 132,
   "metadata": {
    "collapsed": false
   },
   "outputs": [
    {
     "name": "stdout",
     "output_type": "stream",
     "text": [
      "1\n",
      "2\n"
     ]
    }
   ],
   "source": [
    "for t in (1,2):\n",
    "    print(t)"
   ]
  },
  {
   "cell_type": "code",
   "execution_count": null,
   "metadata": {
    "collapsed": true
   },
   "outputs": [],
   "source": []
  }
 ],
 "metadata": {
  "kernelspec": {
   "display_name": "Python 3",
   "language": "python",
   "name": "python3"
  },
  "language_info": {
   "codemirror_mode": {
    "name": "ipython",
    "version": 3
   },
   "file_extension": ".py",
   "mimetype": "text/x-python",
   "name": "python",
   "nbconvert_exporter": "python",
   "pygments_lexer": "ipython3",
   "version": "3.5.1"
  }
 },
 "nbformat": 4,
 "nbformat_minor": 0
}
