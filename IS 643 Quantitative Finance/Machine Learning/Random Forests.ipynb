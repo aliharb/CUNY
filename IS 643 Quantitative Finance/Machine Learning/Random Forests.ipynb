{
 "cells": [
  {
   "cell_type": "code",
   "execution_count": 1,
   "metadata": {
    "collapsed": true
   },
   "outputs": [],
   "source": [
    "from sklearn.ensemble import RandomForestClassifier\n",
    "from collections import deque\n",
    "\n",
    "import numpy as np\n",
    "\n",
    "import math\n",
    "import datetime as dt\n",
    "import statsmodels.tsa.stattools as ts\n",
    "import statsmodels.api as sm\n",
    "import pandas as pd\n",
    "import cufflinks as cf\n",
    "\n",
    "import Quandl as quandl\n",
    "\n",
    "import plotly.plotly as py\n",
    "import plotly.graph_objs as go\n",
    "%matplotlib inline\n",
    "\n",
    "import copy"
   ]
  },
  {
   "cell_type": "code",
   "execution_count": 322,
   "metadata": {
    "collapsed": false
   },
   "outputs": [],
   "source": [
    "ticker = 'BA'\n",
    "\n",
    "stock = 'WIKI/' + ticker\n",
    "\n",
    "stockseries2 = quandl.get(stock, authtoken=\"1Cx13bkj4vDb7E13GLD6\")['Adj. Close'].ix['01/01/2014':'04/30/2016'].dropna()"
   ]
  },
  {
   "cell_type": "code",
   "execution_count": 14,
   "metadata": {
    "collapsed": false
   },
   "outputs": [
    {
     "data": {
      "text/plain": [
       "array([1])"
      ]
     },
     "execution_count": 14,
     "metadata": {},
     "output_type": "execute_result"
    }
   ],
   "source": [
    "X = [[1,2,3],[4,5,6],[7,8,9]]\n",
    "y = [0,1,0]\n",
    "\n",
    "rfmodel = RandomForestClassifier().fit(X, y)\n",
    "\n",
    "rfmodel.predict(np.array([1,3,5]).reshape(1,-1))"
   ]
  },
  {
   "cell_type": "code",
   "execution_count": 328,
   "metadata": {
    "collapsed": false,
    "scrolled": true
   },
   "outputs": [],
   "source": [
    "w = 30\n",
    "X = []\n",
    "y = []\n",
    "\n",
    "def rfcreate(ar):\n",
    "    global X\n",
    "    global y\n",
    "    global w\n",
    "    \n",
    "    changes = np.diff(ar) > 0\n",
    "    X.append(changes[:-1])\n",
    "    y.append(changes[-1])\n",
    "    \n",
    "    rfmodel = RandomForestClassifier().fit(np.array(X), np.array(y))\n",
    "\n",
    "    return int(rfmodel.predict(changes[1:].reshape(1,-1)))\n",
    "\n",
    "\n",
    "predictions =  stockseries2.rolling(window=20, center=False).apply(rfcreate).dropna()\n",
    "\n",
    "\n",
    "\n"
   ]
  },
  {
   "cell_type": "code",
   "execution_count": 282,
   "metadata": {
    "collapsed": false
   },
   "outputs": [],
   "source": [
    "info = pd.concat([stockseries, (stockseries.pct_change() > 0), predictions.shift().apply(bool)], axis=1)"
   ]
  },
  {
   "cell_type": "code",
   "execution_count": 302,
   "metadata": {
    "collapsed": false
   },
   "outputs": [],
   "source": [
    "TruePos = ((stockseries.pct_change() > 0) & predictions.shift().apply(bool))[\n",
    "    ((stockseries.pct_change() > 0) & predictions.shift().apply(bool))]\n",
    "\n",
    "TruePos = TruePos.astype(int)-1"
   ]
  },
  {
   "cell_type": "code",
   "execution_count": 303,
   "metadata": {
    "collapsed": false
   },
   "outputs": [],
   "source": [
    "predictions = predictions[predictions == 1] - 1"
   ]
  },
  {
   "cell_type": "code",
   "execution_count": 304,
   "metadata": {
    "collapsed": false
   },
   "outputs": [
    {
     "data": {
      "text/html": [
       "<iframe id=\"igraph\" scrolling=\"no\" style=\"border:none;\"seamless=\"seamless\" src=\"https://plot.ly/~charleyferrari/435.embed\" height=\"525px\" width=\"100%\"></iframe>"
      ],
      "text/plain": [
       "<plotly.tools.PlotlyDisplay object>"
      ]
     },
     "execution_count": 304,
     "metadata": {},
     "output_type": "execute_result"
    }
   ],
   "source": [
    "\n",
    "trace0 = go.Scatter(\n",
    "    x = stockseries.index,\n",
    "    y = stockseries.pct_change().values,\n",
    "    name = ticker + ' Percent Change'\n",
    ")\n",
    "\n",
    "trace1 = go.Scatter(\n",
    "    x = predictions.index,\n",
    "    y = predictions.values,\n",
    "    mode = 'markers',\n",
    "    name = 'Buy Signal'\n",
    ")\n",
    "\n",
    "trace2 = go.Scatter(\n",
    "    x = TruePos.index,\n",
    "    y = TruePos.values,\n",
    "    mode = 'markers',\n",
    "    name = 'True Positives'\n",
    ")\n",
    "\n",
    "data = [trace0, trace1, trace2]\n",
    "\n",
    "layout = dict(\n",
    "    title = 'Random Forests Prediction'\n",
    ")\n",
    "\n",
    "fig = dict(data=data, layout=layout)\n",
    "\n",
    "py.iplot(fig, filename = 'Random Forest')\n"
   ]
  },
  {
   "cell_type": "code",
   "execution_count": 306,
   "metadata": {
    "collapsed": false
   },
   "outputs": [],
   "source": [
    "tickerlist = ['AXP', 'BA', 'CAT', 'CSCO', 'CVX', 'KO', \n",
    "             'DD', 'XOM', 'GE', 'GS', 'HD', 'IBM', 'INTC', 'JNJ', \n",
    "             'JPM', 'MCD', 'MMM', 'MRK', 'MSFT', 'NKE', 'PFE', 'PG',\n",
    "             'TRV', 'UNH', 'UTX', 'V', 'VZ', 'WMT', 'DIS']\n",
    "\n",
    "stock = 'WIKI/AAPL'\n",
    "\n",
    "stockseries = quandl.get(stock, authtoken=\"1Cx13bkj4vDb7E13GLD6\")['Adj. Close'].ix['01/01/2014':'04/30/2016']\n",
    "for t in tickerlist:\n",
    "    stock = 'WIKI/' + t\n",
    "    getstock = quandl.get(stock, authtoken=\"1Cx13bkj4vDb7E13GLD6\")['Adj. Close'].ix['01/01/2014':'04/30/2016']\n",
    "    stockseries = pd.concat([stockseries, getstock], axis=1)\n",
    "        \n",
    "        \n",
    "tickerlist = ['AAPL', 'AXP', 'BA', 'CAT', 'CSCO', 'CVX', 'KO', \n",
    "             'DD', 'XOM', 'GE', 'GS', 'HD', 'IBM', 'INTC', 'JNJ', \n",
    "             'JPM', 'MCD', 'MMM', 'MRK', 'MSFT', 'NKE', 'PFE', 'PG',\n",
    "             'TRV', 'UNH', 'UTX', 'V', 'VZ', 'WMT', 'DIS']\n",
    "\n",
    "stockseries = stockseries.dropna()\n",
    "\n",
    "stockseries.columns = tickerlist\n",
    "        \n",
    "        \n",
    "        \n",
    "        "
   ]
  },
  {
   "cell_type": "code",
   "execution_count": 337,
   "metadata": {
    "collapsed": false
   },
   "outputs": [],
   "source": [
    "w = 50\n",
    "\n",
    "\n",
    "stocklist = []\n",
    "successlist = []\n",
    "\n",
    "\n",
    "for col in stockseries.columns:\n",
    "    \n",
    "    w = 30\n",
    "    X = []\n",
    "    y = []\n",
    "    \n",
    "    usedstock = stockseries[col]\n",
    "    \n",
    "    predictions =  usedstock.rolling(window=w, center=False).apply(rfcreate).dropna()\n",
    "    \n",
    "    TruePos = ((usedstock.pct_change() > 0) & predictions.shift().apply(bool))[\n",
    "    ((usedstock.pct_change() > 0) & predictions.shift().apply(bool))]\n",
    "    \n",
    "    stocklist.append(col)\n",
    "    successlist.append(len(TruePos)/len(predictions))\n",
    "        \n",
    "successtable = pd.DataFrame(dict(stock = stocklist, accuracy = successlist))\n"
   ]
  },
  {
   "cell_type": "code",
   "execution_count": 342,
   "metadata": {
    "collapsed": false
   },
   "outputs": [
    {
     "data": {
      "text/html": [
       "<div>\n",
       "<table border=\"1\" class=\"dataframe\">\n",
       "  <thead>\n",
       "    <tr style=\"text-align: right;\">\n",
       "      <th></th>\n",
       "      <th>accuracy</th>\n",
       "      <th>stock</th>\n",
       "    </tr>\n",
       "  </thead>\n",
       "  <tbody>\n",
       "    <tr>\n",
       "      <th>29</th>\n",
       "      <td>0.291045</td>\n",
       "      <td>DIS</td>\n",
       "    </tr>\n",
       "    <tr>\n",
       "      <th>17</th>\n",
       "      <td>0.283582</td>\n",
       "      <td>MMM</td>\n",
       "    </tr>\n",
       "    <tr>\n",
       "      <th>6</th>\n",
       "      <td>0.277985</td>\n",
       "      <td>KO</td>\n",
       "    </tr>\n",
       "    <tr>\n",
       "      <th>24</th>\n",
       "      <td>0.276119</td>\n",
       "      <td>UNH</td>\n",
       "    </tr>\n",
       "    <tr>\n",
       "      <th>10</th>\n",
       "      <td>0.264925</td>\n",
       "      <td>GS</td>\n",
       "    </tr>\n",
       "    <tr>\n",
       "      <th>20</th>\n",
       "      <td>0.261194</td>\n",
       "      <td>NKE</td>\n",
       "    </tr>\n",
       "    <tr>\n",
       "      <th>15</th>\n",
       "      <td>0.261194</td>\n",
       "      <td>JPM</td>\n",
       "    </tr>\n",
       "    <tr>\n",
       "      <th>7</th>\n",
       "      <td>0.255597</td>\n",
       "      <td>DD</td>\n",
       "    </tr>\n",
       "    <tr>\n",
       "      <th>23</th>\n",
       "      <td>0.253731</td>\n",
       "      <td>TRV</td>\n",
       "    </tr>\n",
       "    <tr>\n",
       "      <th>2</th>\n",
       "      <td>0.251866</td>\n",
       "      <td>BA</td>\n",
       "    </tr>\n",
       "    <tr>\n",
       "      <th>16</th>\n",
       "      <td>0.238806</td>\n",
       "      <td>MCD</td>\n",
       "    </tr>\n",
       "    <tr>\n",
       "      <th>18</th>\n",
       "      <td>0.238806</td>\n",
       "      <td>MRK</td>\n",
       "    </tr>\n",
       "    <tr>\n",
       "      <th>0</th>\n",
       "      <td>0.238806</td>\n",
       "      <td>AAPL</td>\n",
       "    </tr>\n",
       "    <tr>\n",
       "      <th>9</th>\n",
       "      <td>0.227612</td>\n",
       "      <td>GE</td>\n",
       "    </tr>\n",
       "    <tr>\n",
       "      <th>14</th>\n",
       "      <td>0.225746</td>\n",
       "      <td>JNJ</td>\n",
       "    </tr>\n",
       "    <tr>\n",
       "      <th>25</th>\n",
       "      <td>0.220149</td>\n",
       "      <td>UTX</td>\n",
       "    </tr>\n",
       "    <tr>\n",
       "      <th>22</th>\n",
       "      <td>0.220149</td>\n",
       "      <td>PG</td>\n",
       "    </tr>\n",
       "    <tr>\n",
       "      <th>27</th>\n",
       "      <td>0.216418</td>\n",
       "      <td>VZ</td>\n",
       "    </tr>\n",
       "    <tr>\n",
       "      <th>13</th>\n",
       "      <td>0.212687</td>\n",
       "      <td>INTC</td>\n",
       "    </tr>\n",
       "    <tr>\n",
       "      <th>11</th>\n",
       "      <td>0.212687</td>\n",
       "      <td>HD</td>\n",
       "    </tr>\n",
       "    <tr>\n",
       "      <th>26</th>\n",
       "      <td>0.210821</td>\n",
       "      <td>V</td>\n",
       "    </tr>\n",
       "    <tr>\n",
       "      <th>21</th>\n",
       "      <td>0.205224</td>\n",
       "      <td>PFE</td>\n",
       "    </tr>\n",
       "    <tr>\n",
       "      <th>1</th>\n",
       "      <td>0.205224</td>\n",
       "      <td>AXP</td>\n",
       "    </tr>\n",
       "    <tr>\n",
       "      <th>28</th>\n",
       "      <td>0.199627</td>\n",
       "      <td>WMT</td>\n",
       "    </tr>\n",
       "    <tr>\n",
       "      <th>5</th>\n",
       "      <td>0.192164</td>\n",
       "      <td>CVX</td>\n",
       "    </tr>\n",
       "    <tr>\n",
       "      <th>19</th>\n",
       "      <td>0.192164</td>\n",
       "      <td>MSFT</td>\n",
       "    </tr>\n",
       "    <tr>\n",
       "      <th>4</th>\n",
       "      <td>0.179104</td>\n",
       "      <td>CSCO</td>\n",
       "    </tr>\n",
       "    <tr>\n",
       "      <th>12</th>\n",
       "      <td>0.167910</td>\n",
       "      <td>IBM</td>\n",
       "    </tr>\n",
       "    <tr>\n",
       "      <th>8</th>\n",
       "      <td>0.154851</td>\n",
       "      <td>XOM</td>\n",
       "    </tr>\n",
       "    <tr>\n",
       "      <th>3</th>\n",
       "      <td>0.143657</td>\n",
       "      <td>CAT</td>\n",
       "    </tr>\n",
       "  </tbody>\n",
       "</table>\n",
       "</div>"
      ],
      "text/plain": [
       "    accuracy stock\n",
       "29  0.291045   DIS\n",
       "17  0.283582   MMM\n",
       "6   0.277985    KO\n",
       "24  0.276119   UNH\n",
       "10  0.264925    GS\n",
       "20  0.261194   NKE\n",
       "15  0.261194   JPM\n",
       "7   0.255597    DD\n",
       "23  0.253731   TRV\n",
       "2   0.251866    BA\n",
       "16  0.238806   MCD\n",
       "18  0.238806   MRK\n",
       "0   0.238806  AAPL\n",
       "9   0.227612    GE\n",
       "14  0.225746   JNJ\n",
       "25  0.220149   UTX\n",
       "22  0.220149    PG\n",
       "27  0.216418    VZ\n",
       "13  0.212687  INTC\n",
       "11  0.212687    HD\n",
       "26  0.210821     V\n",
       "21  0.205224   PFE\n",
       "1   0.205224   AXP\n",
       "28  0.199627   WMT\n",
       "5   0.192164   CVX\n",
       "19  0.192164  MSFT\n",
       "4   0.179104  CSCO\n",
       "12  0.167910   IBM\n",
       "8   0.154851   XOM\n",
       "3   0.143657   CAT"
      ]
     },
     "execution_count": 342,
     "metadata": {},
     "output_type": "execute_result"
    }
   ],
   "source": [
    "successtable.sort_values('accuracy', ascending=False)"
   ]
  }
 ],
 "metadata": {
  "kernelspec": {
   "display_name": "Python 3",
   "language": "python",
   "name": "python3"
  },
  "language_info": {
   "codemirror_mode": {
    "name": "ipython",
    "version": 3
   },
   "file_extension": ".py",
   "mimetype": "text/x-python",
   "name": "python",
   "nbconvert_exporter": "python",
   "pygments_lexer": "ipython3",
   "version": "3.5.1"
  }
 },
 "nbformat": 4,
 "nbformat_minor": 0
}
